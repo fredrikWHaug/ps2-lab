{
  "nbformat": 4,
  "nbformat_minor": 0,
  "metadata": {
    "colab": {
      "provenance": []
    },
    "kernelspec": {
      "name": "python3",
      "display_name": "Python 3"
    },
    "language_info": {
      "name": "python"
    }
  },
  "cells": [
    {
      "cell_type": "markdown",
      "source": [
        "# Introduction\n",
        "\n",
        "Go to `File` $\\rightarrow$ `Save a copy in Drive` to save an editable version of this document in your own Google Drive."
      ],
      "metadata": {
        "id": "BryvDdLXfM1H"
      }
    },
    {
      "cell_type": "markdown",
      "source": [
        "## Dealing with Uncertainty\n",
        "\n",
        "When performing measurements (as in life), there are always sources of uncertainty. Part of your job as an experimentalist to to figure out how certain (or uncertain) you are that you measured the value that you think you measured. Therefore, it is necessary to assign uncertainty values to any measured value!\n",
        "\n",
        "In this lab, we'll learn where these uncerainty values come from, how to find them, and how to compare values given their uncertainties."
      ],
      "metadata": {
        "id": "XrGz0b2UMn36"
      }
    },
    {
      "cell_type": "markdown",
      "source": [
        "\n",
        "## The Logistics\n",
        "\n",
        "Edit this cell and add the names of your group memembers here:\n",
        "\n",
        ">> Lab member 1: Hugh Hankenson\n",
        "\n",
        ">> Lab member 2: Rishab Jain\n",
        "\n",
        ">> Lab member 3: Fredrik Willumsen Haug\n",
        "\n",
        "* As you go through this document, be sure to answer any questions posed in a text cell where indicated. Your text should be preceeded by the double `>>` as shown above.\n",
        "* At the end of the lab, you'll download this notebook and then upload it to Canvas/Gradescope *before you leave*."
      ],
      "metadata": {
        "id": "iml07BjKTrXj"
      }
    },
    {
      "cell_type": "markdown",
      "source": [
        "*italicized text*#Recap + Goals for This Week\n",
        "\n",
        "Recall that in Lab 1, you investigated if you could get better at hacky sack darts by practicing. First, you came up with a quantitative metric for how good your group was at the game. Most groups calculated the average distance of their hacky sacks from the origin,  $\\langle r \\rangle$, and used this as their metric. Note: $\\langle ... \\rangle$ just means the average of that variable. Sometimes classes will call the average of a set of measurements 'mu', $\\mu$.\n",
        "\n",
        "You then measured $\\langle r \\rangle$ before and after practicing. Many groups then claimed that they got better (or worse) based on if your metric increased or decreased. However, most groups could not tell if this change was or was not significant.\n",
        "\n",
        "As you saw on the pre-lab activity, **in order to tell if the difference between two measurements is significant, you need to know the uncertainty associated with each measurement**. By comparing the difference between the two values with their uncertainties, you can determine the probability that this difference is due purely to random chance. If this probability is low, then the change could be significant!\n",
        "\n",
        "## This week, you'll learn how to find the uncertainty associated with a measured quantity. Then, you'll be able to use this uncertainty to determine if the difference between two measurements is or is not significant."
      ],
      "metadata": {
        "id": "0apvgClp8Z7w"
      }
    },
    {
      "cell_type": "markdown",
      "source": [
        "# Run this code (don't worry about what it does!)"
      ],
      "metadata": {
        "id": "4LXtOFEJ8YQD"
      }
    },
    {
      "cell_type": "code",
      "execution_count": 1,
      "metadata": {
        "id": "BEzKMM-WThIS"
      },
      "outputs": [],
      "source": [
        "import numpy as np\n",
        "import matplotlib.pyplot as plt\n",
        "from mpl_toolkits.axes_grid1 import make_axes_locatable\n",
        "plt.rcParams['font.size'] = '16'\n",
        "#from IPython import display\n",
        "from IPython.display import Latex, display"
      ]
    },
    {
      "cell_type": "markdown",
      "source": [
        "# Uncertanties\n",
        "\n",
        "Before we think about hacky sack darts, we need to figure out how to assign uncertainties to our measurements. Broadly speaking, there are two factors which limit the precision of our measurements:\n",
        "\n",
        "1. **The resolution of your instrument.** You can't measure a quantity more precisely than the finest increment of your measurement device. For instances, if your meter stick has increments of 1 mm, you can't measure a length with sub-millimeter precision.\n",
        "\n",
        "2. **Everything else.** Your measurements are subject to intrinisc, random variations due to a host of physical processes. Perhaps fluctuations in the room temperature cause your meter stick to expand and contract. Perhaps air currents cause variation's in your hacky sack's trajectory as it moves through the air. These processes are often difficult to model, but by taking multiple measurements you can see the resulting variation in your data.\n",
        "\n",
        "To determine the uncertainty on your data, you should take repeated measurements of the quantity you're interested. The *average* of these measurements will give you an estimate of the \"true\" value of the quantity of interested.\n",
        "\n",
        "If the variation between each measurement is larger than the resolution of your instrument (as is often the case in biological experiments, and in this course), then the uncertainty of the average value is given by the *standard error of the mean*.\n",
        "\n"
      ],
      "metadata": {
        "id": "WKVnb_vDz7Dm"
      }
    },
    {
      "cell_type": "markdown",
      "source": [
        "# Activity 1: The Height of Uncertainty (or The Uncertainty of Height?)\n",
        "\n",
        "Here's a simple example. Pick one member of your lab group, and have the other two members of your group measure their height. (If there are only two members in your group, measure a TF or someone from another group!) Record your measurements below, and then run the below cell: Python can easily compute the mean, standard deviation, and standard error in the mean."
      ],
      "metadata": {
        "id": "EwCDVIsyHrBD"
      }
    },
    {
      "cell_type": "code",
      "source": [
        "heights = np.array([177.0, 178.6]) #put your data here, (in meters)\n",
        "\n",
        "#find the average height value\n",
        "mean_height = np.mean(heights)\n",
        "\n",
        "#find the standard deviation of your data:\n",
        "std_height = np.std(heights)\n",
        "\n",
        "#find out how many measurements you made:\n",
        "N = len(heights)\n",
        "\n",
        "#find the standard error in the mean of your data\n",
        "uncert_in_mean = std_height/np.sqrt(N) #write some code to compiute the standard error of the mean!\n",
        "\n",
        "# Print the results:\n",
        "\n",
        "display(Latex(f'$\\mu = {np.round(mean_height,2) }$'))\n",
        "display(Latex(f'$\\sigma = {np.round(std_height,2)}$'))\n",
        "display(Latex(f'$\\sigma_\\mu = {np.round(uncert_in_mean,2)}$'))"
      ],
      "metadata": {
        "colab": {
          "base_uri": "https://localhost:8080/",
          "height": 82
        },
        "id": "j6agsRm8z6zZ",
        "outputId": "07990603-4404-442a-c39c-41da23ea4f98"
      },
      "execution_count": 17,
      "outputs": [
        {
          "output_type": "display_data",
          "data": {
            "text/plain": [
              "<IPython.core.display.Latex object>"
            ],
            "text/latex": "$\\mu = 177.8$"
          },
          "metadata": {}
        },
        {
          "output_type": "display_data",
          "data": {
            "text/plain": [
              "<IPython.core.display.Latex object>"
            ],
            "text/latex": "$\\sigma = 0.8$"
          },
          "metadata": {}
        },
        {
          "output_type": "display_data",
          "data": {
            "text/plain": [
              "<IPython.core.display.Latex object>"
            ],
            "text/latex": "$\\sigma_\\mu = 0.57$"
          },
          "metadata": {}
        }
      ]
    },
    {
      "cell_type": "markdown",
      "source": [
        "## Now, answer the following questions!\n",
        "\n",
        "1. What is your group members height (report this with uncertainty!)\n",
        "\n",
        ">> Our group member's hight is 177.8 +- 0.57 cm.\n",
        "\n",
        "2. What is the resolution of your measurement device? (That is, what is the smallest length increment?)\n",
        "\n",
        ">> The resoluton of our measurement device is 0.1 cm.\n",
        "\n",
        "3. Is the uncertainty on group member's height larger or smaller than the resolution of your device? Why do you think that is?\n",
        "\n",
        ">> The uncertainty on our group member's height is larger than the resolution of your device. We think that this may be the case because the uncertainty on our group member's height accounts for both the error of the measurement device and the general statistical error of our experiment. Because there is statistical uncertainty in our experiment given its small number of trials, the uncertainty that we are calculating here is larger than the resolution of our measurement, which would just be 0.1 cm.\n",
        "\n"
      ],
      "metadata": {
        "id": "fKeDkInw2P0N"
      }
    },
    {
      "cell_type": "markdown",
      "source": [
        "# Activity 2: Reaction Time\n",
        "\n",
        "Now, let's change gears and ask a new question: Who in your group has the fastest reaction time? To figure this out, we'll do the following experiment:\n",
        "\n",
        "One group member will be the ‘tester’ and hold a ruler just above the hand of the person reacting. The ‘reactor’ will hold their hand just below the 0 cm on the ruler, ready to pinch or catch the ruler. The tester will drop the ruler without warning, and the reactor will catch the ruler.\n",
        "\n",
        "In lecture, we saw that the distance an object falls is related to the time it is falling:\n",
        "\n",
        "$$y = \\frac12 gt^2$$\n",
        "\n",
        "So, by measuring the distance the ruler fell, you can determine how long it was falling!\n",
        "\n",
        "Start by testing one group member's reaction time. Using the methods from before, figure out how far the ruler falls, with uncertainty."
      ],
      "metadata": {
        "id": "OlzNujoegh5n"
      }
    },
    {
      "cell_type": "code",
      "source": [
        "# test\n",
        "y = np.array([18, 18, 28, 15, 20]) #your data here\n",
        "\n",
        "# convert from cm to m\n",
        "y = y / 100\n",
        "\n",
        "## Calculate average y\n",
        "y_mean = np.mean(y)\n",
        "\n",
        "## Calculate uncertainty of the mean\n",
        "std_height = np.std(y)\n",
        "N = len(y)\n",
        "uncert_in_mean = std_height/np.sqrt(N)\n",
        "print(uncert_in_mean)"
      ],
      "metadata": {
        "id": "j3eB1edT9Q3f",
        "colab": {
          "base_uri": "https://localhost:8080/"
        },
        "outputId": "53d27119-63e8-4dcd-b3d3-3f7fdd905708"
      },
      "execution_count": 30,
      "outputs": [
        {
          "output_type": "stream",
          "name": "stdout",
          "text": [
            "0.019677398201998153\n"
          ]
        }
      ]
    },
    {
      "cell_type": "markdown",
      "source": [
        "## Now that we know $y$ and it's uncertainty, how do we find $t$ and it's uncertainty?"
      ],
      "metadata": {
        "id": "7xJEH2d-WT1H"
      }
    },
    {
      "cell_type": "markdown",
      "source": [
        "###  Error propagation\n",
        "When you can’t directly measure the thing you’re actually interested in, you must follow a process called “error propagation.”\n",
        "\n",
        "For some operations, error propagation is straightforward (e.g. if you double your measured value--you had better double your error bars). But what if you want to square, or take the log of, your measured value? Error propagation can be generalized to *any* function $f$ of your measured value $x_0$ by multiplying your uncertainty by the slope of the applied function at each data point:\n",
        "\n",
        "$$\\delta f(x_0) = \\left\\vert \\frac{df(x)}{dx} \\right\\vert _{x=x_0} \\delta x$$\n",
        "\n",
        "\n",
        "![errorpropagation.png](data:image/png;base64,iVBORw0KGgoAAAANSUhEUgAAAfQAAAK8CAYAAAAZNU0WAAAgAElEQVR4nOzde1xUdf4/8M8MAgoiUnjDNis1U2tTc9M0I1PblW6beSvctPLy2za/pVmut8xcLU13062s8LZeslTK+z3vlzJHQkQQFEMEBEVFQO68fn8c58MMDDBzmGHOzLyej8c8Ws75nHM+Duy85pz3+XyOABEREbk84ewOEBERUe0x0ImIiNwAA52IiMgNMNCJiIjcAAOdiIjIDTDQiYiI3AADnYiIyA0w0ImIiNwAA52IiMgNMNCJiIjcAAOdiIjIDTDQiYiI3AADnYiIyA0w0Em1srIyZGdno6yszNldISLyeAx0Ui07OxtCCGRnZzu7K0SqnT59GkIICCHwyiuv2L6DTz8FhFBeX35p/w4SWYmBTqox0Mkd/PDDDzLQZ8yYYfsOnnmmPNDj4uzfQSIrMdBJNQY6uYNPPvlEBvqaNWts27i4GGjUSAnzZs0Alp/IiRjopBoDndzB66+/LgPdYDDYtvGvv5afnQ8Z4pgOElmJgU6qMdDJHTz++OMy0G/evGnbxqb180WLHNNBIisx0Ek1Bjq5gyZNmkAIgRYtWti+sWn9/MwZ+3eOyAYMdFKNgU6u7tq1a/LsPDQ01LaNWT8njWGgk2oMdHJ1v/zyiwz0UaNG2bYx6+ekMQx0Uo2BTq5u5cqVMtA//fRT2zZm/Zw0hoFOqjHQydVNmzZNBvqmTZts25j1c9IYBjqpxkAnVzd48GAZ6PHx8dZvaFo/b9qU9XPSBAY6qcZAJ1fXqVMnCCHg5eWFwsJC6zc0rZ8PGuS4DhLZgIFOqjHQyZWVlZXB398fQgi0bt3ato05fztpEAOdVGOgkytLSUmRl9vDwsJs25j1c9IgBjqpxkAnV7Z7924Z6OPHj7d+Q44/J41ioJNqDHRyZZ9//rkM9K+//tr6DTn+nDSKgU6qMdDJlb311lsy0A8cOGD9hhx/ThrFQCfVGOjkyvr16ycD/fLly9ZvyPo5aRQDnVRjoJMr+8Mf/gAhBBo3bowya+vgrJ+ThjHQSTUGOrmq3NxceXberVs36zc0rZ8PHuy4DhKpwEAn1Rjo5KqioqJkoA8fPtz6DTn+nDSMgU6qMdDJVa1Zs0YG+uzZs63fkPVz0jAGOqnGQCdX9eGHH8pAj4yMtG4jzt9OGsdAJ9UY6OSqhg4dKgM9NjbWuo2OH2f9nDSNgU6qMdDJVXXu3BlCCOj1ehQUFFi30dy55YH+xReO7SCRCgx0Uo2BTq6otLQUfn5+EEKgTZs21m8YFsb6OWkaA51UY6CTK7p48aK83P7MM89Yt1FxMRAQwPo5aRoDnVRjoJMrMn0oy7vvvmvdRqyfkwtgoJNqDHRyRf/9739loH/zzTfWbWRaP+f4c9IoBjqpxkAnV2T6UJaDBw9atxHr5+QCGOikGgOdXFHfvn1loGdkZNS8Aevn5CIY6KQaA51ckc0PZWH9nFwEA51UY6CTqzF9KEv37t2t24j1c3IRDHRSjYFOrubkyZO2P5SF9XNyEQx0Uo2BTq7G9KEsH3/8cc0bsH5OLoSBTqox0MnVfPDBBzLQf/jhh5o3YP2cXAgDnVRjoJOrGTRokAz0uLi4mjfg/O3kQhjopBoDnVzNQw89BCEE6tWrh6Kiopo3YP2cXAgDnVRjoJMrKSkpga+vL4QQaN++fc0bsH5OLoaBTqox0MmVJCYmysvtAwYMqHkD1s/JxTDQSTUGOrmSTZs2yUCfMmVKzRt8+inHn5NLYaCTagx0ciVz5syRgb5y5cqaN3jmGdbPyaUw0Ek1Bjq5ktdee00G+okTJ6pvXFwMNGrE+jm5FAY6qcZAJ1fSvXt3Gei5ubnVN/71V9bPyeUw0Ek1Bjq5irKyMgQGBkIIgbvvvrvmDUzr54sWOb6DRHbAQCfVGOjkKtLS0uTZ+Z///OeaNzAdf27NBDREGsBAJ9UY6OQq9u7dKwP97bffrr6x6fjzZs1YPyeXwUAn1Rjo5Cq++OILGehfffVV9Y1Nx58PGVI3HSSyAwY6qcZAJ1fx1ltvyUA/cOBA9Y1N529n/ZxcCAOdVGOgk6vo06ePDPTMzMzqG3P+dnJRDHRSjYFOriIkJARCCNx5553VN2T9nFwYA51UY6CTKzD+nQoh0LNnz+obs35OLoyBTqox0MkV/PLLLzLQR44cWX1jjj8nF8ZAJ9UY6OQKli9fLgN9/vz51Tc2nb+d48/JxTDQSTUGOrmCiRMnykDftm1b1Q1N529n/ZxcEAOdVGOgkyt44YUXZKBfuHCh6oacv51cHAOdVGOgkyto27YthBBo0KABSktLq27I+jm5OAY6qcZAJ63Lz8+HXq+HEAJdunSpvjHr5+TiGOikGgOdtC46Olpebh82bFjVDVk/JzfAQCfVGOikdWvWrJGBPnv27KobmtbPOf6cXBQDnVRjoJPWTZs2TQb6hg0bqm7I+dvJDTDQSTUGOmndSy+9JAM9ISGh6oZ8/jm5AQY6qcZAJ6174IEHIISAr68vSkpKLDfi/O3kJhjopBoDnbSssLAQXl5eEELg4Ycfrroh528nN8FAJ9UY6KRlp0+flpfbX3755aobsn5OboKBTqox0EnL1q5dKwN95syZVTdk/ZzcBAOdVGOgk5Z9+OGHMtAjIyMtN2L9nNwIA51UY6CTlg0aNEgGelxVZ96sn5MbYaCTagx00rKOHTtCCAFvb28UFxdbbmRaP//yy7rtIJGdMdBJNQY6aVVRURG8vb0hhMCDDz5YdUPWz8mNMNBJNQY6aVVcXJy83D64qkehsn5OboaBTqox0EmrIiMjZaB/+OGHlhuxfk5uhoFOqjHQSatmzpwpA33t2rWWG/H55+RmGOikGgOdtGro0KEy0E+fPm25EZ9/Tm6GgU6qMdBJq/74xz9CCIF69eqhsLCwcgPT5583bcr6ObkFBjqpxkAnLSouLoavry+EEGjfvr3lRqbPP6/qpjkiF8NAJ9UY6KRFCQkJ8nL7Sy+9ZLmRaf2c48/JTTDQSTUGOmnRDz/8IAN92rRplhuZ1s/PnKnbDhI5CAOdVGOgkxaZ3uH+/fffV27A+jm5KQY6qcZAJy0aMmSIDPTY2NjKDVg/JzfFQCfVGOikRaZzuBcVFVVuwPo5uSkGOqnGQCetKSwsRL169aqfw531c3JTDHRSjYFOWnP69Gl5uX3o0KGVG5jWzzl/O7kZBjqpxkAnrfnuu+9koM+cObNyA9P6OedvJzfDQCfVGOikNdOmTZOB/uOPP1ZuwPnbyY0x0Ek1BjppzYsvvigDPTExsXIDzt9OboyBTqox0Elr2rZtCyEE6tevj5KSEvOVrJ+Tm2Ogk2oMdNKSW7duQa/XQwiBLl26VG7A8efk5hjopBoDnbTk5MmT8nL7q6++WrkB6+fk5hjopBoDnbRkxYoVMtDnzp1buQHr5+TmGOikGgOdtGTixIky0Ldu3Wq+kvVz8gAMdFKNgU5a8swzz8hAT05ONl/J+jl5AAY6qcZAJy1p1aoVhBAICAhAWcUz8LlzOX87uT0GOqnGQCetuHnzpjw77969e+UGYWHlgW7pCWxEboCBTqox0Ekrfv75ZxnoI0eONF9ZXAwEBPD55+T2GOikGgOdtGLx4sUy0D/77DPzlcePs35OHoGBTqox0Ekr3nnnHRnou3fvNl/J+jl5CAY6qcZAJ63o06ePDPT09HTzlab1c44/JzfGQCfVGOikFU2bNoUQAsHBweZ3uJvWzzn+nNwcA51UY6CTFmRkZMiz86eeesp8Jevn5EEY6KQaA520YM+ePTLQ3377bfOVpvVzzt9Obo6BTqox0EkL/vOf/8hAX7x4sflK1s/JgzDQSTUGOmnBa6+9JgP9l19+KV/B+jl5GAY6qcZAJy3o2rUrhBDQ6XTIzc0tX8H528nDMNBJNQY6OVtJSQkaNGgAIQTatGljvtL0+eccf04egIFOqjHQydkSEhLk5fYXX3zRfKXp8885fzt5AAY6qcZAJ2dbv369DPQPPvigfIXp8885fzt5CAY6qcZAJ2ebPn26DPT169eXr+D4c/JADHRSjYFOzjZgwAAZ6GfPni1fwfnbyQMx0Ek1Bjo5W9u2bSGEQIMGDVBSUlK+wnT8+ZkzzusgUR1ioJNqDHRyptzcXOh0Oggh8Mgjj5Sv4PPPyUMx0Ek1Bjo50/Hjx+Xl9tdee810Bevn5JEY6KQaA52cacmSJTLQ//3vf5evcET9PD1d2d+RI+XLNm0CHnwQ8PUF7rnHPschqgUGOqnGQCdneuedd2Sg7969u3yFI+rn27YBej1gnInu2jWgQQPg44+BS5eArCz7HIeoFhjopBoDnZypT58+MtAvX76sLHRU/XzWLKB9+/KfV68GGjZUjkfuYd064E9/AoKClKsurVsDU6YAhYXO7pnVGOikGgOdnKlJkyYQQqBp06blC+1RPz9/Hnj+ecDPDwgJAZYuBQYOBMLDlfWdO5cfQwggOLj2/xhyvp9+UkL99GngwgXghx+AJk2AsWOd3TOrMdBJNQY6OUt6ero8O+/Tp0/5iprq58uWKeuWLbO849RUoEULJcBjYpQHvDz8MNC4MTB/vtImMxPo0QMYOVKprV+9anlfNR2Lytn6XmVlKWErBNCuneP69c47yn0SFWn0d8tAJ9UY6OQsO3fulIE+fvz48hU11c9r+iAeOBDo1cv8Uv2aNco2+/eXLwsKUs7cq6PRD31NsvW9Gj4c0OkcG+hnzij7tnSGrtHfLQOdVGOgk7PMnTtXBvry5cuVhdbUz6v7IM7MVG5827LFfPn69Up4GP/Oz59X9hEVVX0nNfqhr0m2vFd79ihtR492TKD7+wM+Psq+x4wBTCcsUtPfOsRAJ9UY6OQs4eHhMtCjjMFqWj8fNMjyhtV9EO/cqawz3mBnNHEiYPpo1nXrlJumioqq76RGP/Q1ydr36tYt5XfRoQOQkOCYQE9MBE6dUq7ANG0KmD70x9b+1jEGOqnGQCdnefDBByGEQL169VBQUKAstGb8eXUfxLt2KeuSksqXXbum1M9Nb7CbNAkwnZmuKhr90Ncka9+riROVqyUHDig3rlUX6C+/rKz/178qrzt0SPlS1qQJcO5c1cdbvtx8uKKt/a1jDHRSjYFOzlBQUIB69epBCIGHHnqofIU148+r+yC+elW53PrXvwLx8cCxY8Bjjykf6J98Ut7u6aeBUaNq7qhGP/Q1yZr3KjoaqFcPeP115eeaAj0xUWkfFFReLgGU3+0ddyijGI4fr75fy5crXyCuX7e9v07AQCfVGOjkDFFRUfJy+7Bhw5SFpvXzZs2qHn9e0wfxhg3KJd2GDZWz8C+/VD7Qd+0qb9OkCbBoUc0d1eiHfq2FhpoP27PmtW9f9fus6b0qLQUefVQZImgcVVBToAPKFy8hgI8+Un6+fBm4917Ay6vyvRIffaSUXRITlcv5q1Ypf0t//avt/XUSBjqpxkAnZ1i+fLkM9Llz5yoLTevnQ4ZUvXFdfhBr9EO/1j7+WLnL3JZXXFz1+6zpvfrss8rrrQn0lBSgfn2lbJKaCnTtqmwTEVG57aRJwP33KzMABgQADz2kXJm5dcv2/joJA51UY6CTM4wbN04G+s6dO5WFpvXz6s6eGejaVN17dfGicsUkNNR8uTWBDgDjxpVPACQEMH26Y/vrRAx0Uo2BTs7w1FNPVZ7y1dr52xno2lTde/Xss8owsoq/V2sDPSWlfMz6iBGO768TMdBJNQY61bWysjLceeedEEKgWbNmykJr6+cAA90e6vqSuxDKJfPQUPNXt27KugYNypfl5JhvW1amDGE0ftkbOVLdv9mW/joRA51UY6BTXUtNTZVn508//bSy0Nr6OWD5g9jWG7yqe9V0LHdQ1zfF2XKcinejv/OOsvy555Qx5fXqKTe81ZZGf7cMdFKNgU51bdu2bTLQJ0yYoCy0tn4OaOMM3Tje/fDh8mUbNyo3b23ebN8+1OWxakPN76WmS+7z5yvru3VTbmwz/jx0qOX2O3cCXboo49NDQpQnrVmaJU5tf+sAA51UY6BTXfv4449loK9cuVJZaFo/r+3d1BWlpyvtjxyxvbPVHevPf1bmjAeUOeL9/JRhUpbMmqWMj6/uNWZM1f2w5VjOYu9A//57pW7epo0ypS+ghHrz5sry6Gjz9idPAt7eyhn9mTPKdL+BgcpENvbqbx1goJNqDHSqa0OHDpWBfurUKdvq54DtH8TbtlmeKcwa1R3r1Cllv7NmAY0aAZ9/XvV+srKUsdHVvTIyqt6+umPt2qUEYuvWyt3gzmLPQN+/v+pZ4IzD35591nz5K68oZ+emFixQ6vMV6/Jq+1sHGOikGgOd6lr79u0hhICPjw+Kiopsf/65rR/Es2YB7dur62xNx3rlFfNJTxzJ0rFKSoD77lNqyqWlQO/ewPbtju+LJfYK9NhY5QY6Pz/gl18qb5OfD7RsqWx39Gj58latgKlTzdueO6e0M33KXm36WwcY6KQaA53qUn5+PvR6PYQQ6NSpk7LQlvo5UP0H8fnzwPPPK2EQEqI8nGPgQCA8XFlvaz26umP99psSPN7eNfe7tpfcqzrWsWPAU0+V/7x8efX7cSRnB6SPD/DFF+bLcnOVPn37beX2zu5vFRjopBoDnerSiRMn5OX2V199VVloS/0cqPqDODUVaNFCCfCYGODXX4GHH1aCcP788na21KOrOlZiolIemDxZeZJXs2aWL+sa1eaSe3XHWrdOGVJmtHdv5UvRdcXZAWkp0PPylD6tWVO5vbP7WwUGOqnGQKe6tGTJEhno8+fPV+rnjRpZXz8Hqv4gHjhQCWrTfaxZU/mSqy21b0vHunQJuOee8jPhmzeVGcwsPaKztmo6VsVA/+knzw10XnInT8dAp7o0duxYGeh79uxRzqKNZ+c1jT83svRBnJmphHTFh3WsX6/cEV3x79va2nfFY129qjzHe+BApWZt9J//KJfN09Ks+zdYw5pj8ZJ7uVdeqfxI3IULeVMceQ4GOtWlxx9/XAZ6VlYW8OmnttXPAcsfxDt3KsuM08gaTZyoDHsyZUvtW6Mf+pKr3xRnTwaD8jsdP14ZthYZqfyeOWyNPAUDnepKaWkpAgICIITA3XffrSx85pnyQK9u/nZTUVHKwzmiosqXGW92S0oqX3btmvKBbnrnvK21b0vH0pqdO5W7xO+7TxmDbU3ZwhG08F7t2AF07qzU01u0UH7PVU0so4X+WsBAJ9UY6FRXEhMT5dn5888/b/v48+pcvapchv7rX4H4eOVS9GOPKZfhP/lEaVOXtW8ilRjopBoDnerKunXrZKBPnz7dtvnbrbFhg3J5vWFDpZb65ZdK/XzXrrqtfRPVAgOdVGOgU12ZPHmyDPQNGzbYPv6cyAMw0Ek1BjrVlf79+8tA//33320ff07kARjopBoDnepKixYtIIRAUFAQyoqK7Fc/J3IjDHRSjYFOdeHy5cvy7Lx37972r58TuQkGOqnGQKe6sGPHDhno48ePN6+ff/mls7tHpBkMdFKNgU51wfQZ6CtWrGD9nKgKDHRSjYFOdWHIkCEy0GOiolg/J6oCA51UY6BTXbj//vshhICvry+Kjx5l/ZyoCgx0Uo2BTo6Wk5MDnU4HIQS6du3K8edE1WCgk2oMdHK0I0eOyMvto0aNYv2cqBoeG+g5OTkYOXIkQkJC4OXlhXvvvRczZsxA+/btUWo6vaOdLF68GCEhIcjNzbX7vqty7NgxPP/882jevDl8fHwQHByMvn37Ijk52aydpffCGgx0crQvvvhCBvqXCxeyfq4169YBf/oTEBQE+PoCrVsDU6YAhYXO7plH8thAHzVqFIKCgrBmzRocPXoUR44cgb+/P9atW+eQ4xUXF6Nt27b4oI4e5pCUlAQfHx8MGDAAW7ZsweHDh7F161ZMnToVlys8JrLiexEbG2vVMRjo5GgjR46UgR69eDHr51rz009KqJ8+DVy4APzwA9CkCTB2rLN75pE8MtALCwvRsGFDvPfee3LZ+++/j5YtWzrk7Nxo3rx5CAwMRF5entXbhIaGYvjw4TYfa8mSJRBC4JtvvkFZNWcylt4LazHQydEeeeQRCCGg0+lQMHOm4+vnv/8OTJgAdOwI3HEHUK+e8lS1fv2AAwcsb1NaCsyZAzz0ENCggdK/++5zTP8qsuW53FlZStgKoTwy1VHeeQd48MHKy63pq5r3nySPC/QRI0bIb/zGV+fOnXHnnXdaDLW0tDT4+/tjSIUzgs2bN6NevXqYPHmy1cdOT0+HTqfDkiVLrN5GbaBfvXoVHTp0gBACwcHBGDJkCLZs2WLWxtJ70a1bN6uPwUAnRyosLISPjw+EEGjXrp3j6+dnzwJNmypPWevaVbkK8PLLQN++QGCgEtqWTJqk9CkkRHl++vDhwLx59u+fJbYE+vDhyr/NkYF+5oyyb0tn6DX1Ve37T5LHBXpcXBwmTZoEIQQ2bdqEY8eO4eDBgxBCYNu2bRa3mTFjBnQ6HU6cOAEA2LdvH+rXr4+xKi4rtW/fHgMGDLC6vdpAnz59Onr06IFffvkF27Ztw0svvQQhBKZOnSrbWHovEhISrD4GA50cKSoqSn7RHDZ0qOPr5yNHKvv/5pvK6woKgAqlKgDArVvKI1TvuEM5A65r1gb6nj1Ku9GjHRPo/v6Aj4+y7zFjgJIS2/uq5v0nMx4X6AAwduxYBAUFyZ/nzJkDIUSl2rJRXl4eQkJC0KdPHxw/fhwBAQF47bXXzC5lZ2ZmIiwsDH5+fmjbti127dplcV/h4eFo1qyZxXVlZWUoLi42ez3xxBN49dVXKy2vzuzZs9G0aVNkZmaaLe/Zsyd8fX1x69atKt+L6hQUFCA7O1u+UlJSIITAyZMnZRuDwYArV64AAK5duwaDwSD7m5SUhLNnz8q2UVFRyMjIAKB8OTAYDCi8fTNNcnIy4kzOwqKjo5Geng5AuYnPYDAgPz8fAJCSkmJW94+JiUFqaioA5XdnMBhkmSM1NRUxMTGybWxsLFJSUgAA+fn5MBgMyMnJAaBcUYmOjpZt4+Li5A2FhYWFMBgM8stMRkYGoqKiZNuzZ88iKSkJgHL/hMFgwLVr1wAAV65cgcFgkG0TExNx/vx5AEBpaSkMBgOybodDVlYWDAYDSm5/QJ4/f97sS5fBYJC/5+vXr8NgMKCoqAgAcOHCBcTHx5u938a/ceP7XVBQIN/vM2fOmL3fabef8218v41/NykpKdi3Lx4GA2AwAGvXnsP27RkwGIAjR/KxatUZnDunvN9paWk4deqU2ft98eJFs/f75s2bAJQ523/77TfZdtasWTLQl/3jHzAIgRuOrJ/37q0EyvjxgLU3rxqDcsQIx/SpJtYE+q1byrPeO3QAEhIcE+iJicCpU8DSpcpZtqV7hWrqq5r3n8x4ZKD36NEDffv2lT+//fbb0Ol08kPTkqVLl0IIAX9/fwwePLhS20GDBuH1119HXl4eNm7ciMaNG+Pq1auV9jNu3DjodDqLobxv375Kl8Crel24cMFiPzMyMlC/fn3MmDGj0rrx48dX+uJS8b2ozvTp0y32pV+/frKNEAIREREAgMjISAghZDiFh4cjNDRUtvXz88OCBQsAlM/XbQzX0aNHK+OObwsODsbs2bMBAIcOHYIQQobVuHHj0KFDB9m2VatWmDJlCgAl8IQQMkCnTJmCVq1aybYdOnTAuHHjAADx8fEQQuDQoUMAlC9GwcHBsm3Xrl0xevRoAJBfZnbs2AEAWLBgAfz8/GTb0NBQhIeHA1BCWQiByMhIAEBERASEKP+/XlhYGF588UUAypcmIQRWrlwJAPj2228hhJCjIwYOHIinn35abuvl5YWvvvoKALBx40YIIWTADx8+HD179pRtAwICMH/+fADA7t27zf6O3nzzTXTu3Fm2bd68OWbOnAkAOHr0KIQQOH36NABgwoQJuOOOhfLqt6XXyJGXACh/My1btpT7feihh+SVrcTERAghsG/fPgDA3Llzzb5cNmvWTP6NHR02DEIIbHFk/XzDhvKzzPr1gdBQYNYs4PYXSTN791b9j6+jG18BWBfoEycql7EPHFBuXKsu0F9+WVn/r39VXnfokHIne5MmwLlzVR9v+XJAr68cyjX11Zb33159dTMeF+glJSXw8/PDxIkT5bLRo0fDx8en2u0OHz4MIQQaNmxodoYLKGcw3t7e8swDUD7QLdXKjZe4jWeBpm7evIlff/3V7NWlSxc8++yzlZYXVjEs5H//+x+EEPjll18qrXv55ZfRsGFDeeOfpfeiOjxD5xm68f02PUP/5JNzECIDq1bZ9wz94YcfloGe17dv+Rm6ST/tau1a5XL+3/6m1JvvuksJjEaNgIrluIMHlTatWiltnn1W+Xn4cODIEcf0z5KaQjI6Wrmx7PXXlZ9rCvTERKV9UBBgWkqLj1fKCn5+ytPuqrN8ufIF4vp12/pqy/tvr766GY8L9JiYGAghsHbtWrls8uTJZmdBFUVFRaFx48bo2bMnhBD4/PPPzdafPHmy0mXrt956S3kyVAVjxoyBr6+v1f21tYY+Y8YMCCEqjTUvLCzEHXfcgVdffVUus/Re2II1dAKUUBdC+a+9FBcXo0GDBsoNca1bAwEByBQCXwUEIPP2l0C7+uILJYRWrzZfPmWK8o+74w7g9hcPM507K+trqp+HhlZ9Rl/V6/aVi2pVF5KlpcCjjyp3iRuvFtYU6AAwapTS5qOPlJ8vXwbuvRfw8gIq3FiLjz4Cdu5UwjUhAVi1Sgnlv/7Vtr6qff9t6asH8LhAX7ZsGYQQ8owIAFasWAEhhNnZmFF8fDyaNm2K/v37o6ioCC+88AKCg4Nx48YN2ebgwYNml3EB5UuC8fKsqX79+pld2qyJrYG+YMECCCGwfft2s+XvvfcevL295Y19gOX3whYMdAIcE+jGL5tCCEzq2xcQAgYh4KXTmV3dsIvjx5UAMPmya6ZjR9DBFYcAACAASURBVOUfWDEgiouVy7p/+EPNx/j44/IzeGtf1tzJX11IfvZZ5XXWBHpKinLJu3FjIDVVueNcCOB2Kc3MpEnA/fcrw/UCApShe598otTtre2r2vff1r56AI8L9LfeeguNGzc2W3bx4kUIIfD111+bLb9w4QLuuusu9OrVS15ujIuLg5eXF95//33Zztoz9NLSUgQGBlo8c6+KrYF+8eJFNGjQAHfffTdWr16NzZs3Izw8HDqdrtK/z9J7YQsGOgGOCXRj6UgIgb39+zt2/LnxZqzb9whUYqzVrlhhvjw6Wln+3HP275O1qgrJixeBhg2VKwOmrAl0ABg3TmkXHKz8d/p0x/VV7fvvyL66KI8L9MceewxPPfVUpeW9evVCWFiY/DktLQ2tW7dGly5dKgXWqFGj4OvrK28oMtbQjbVYAHjyyScr1dB/+uknsxu0rKFm2NqBAwfQvXt3+Pr6IiAgAH379sXu3bsrtavqvbAWA50AxwT622+/LQP9yqOPOm78eXq6st977qm6jXH8e8U67v/+pyyfNs2+fbJFVSH57LPKDWYV7zewNtBTUsrHrNvrDn5Lfa3N++/Ivroojwv0qqxfvx5eXl64dOmSqu0HDhyIN954A7du3cLmzZvRuHFjeXOY0bBhw9CjRw97dFcTGOgEOCbQH3/8cQgh4CUEShs2BIRAwp134umnn7ZproQabd2qdP6llyyvLykpP/O7faOlNH68svz26IVq1fUldyGUy9Choeavbt2UdQ0alC+reINuWRkwaJDpkIWa+2ENS32tzfvvyL66KAb6bWVlZejevTv+8Y9/qNo+MzMT/fv3R4MGDdCmTRvs3LnTbP25c+fg7e0th0S5AwY6AfYP9NLSUvj7+0MIgeeaN5cf1uefeQYDBw5Ufc+HRcaQee01y+uNw9Ms3ffy1FPKOmuGRdX1TXG2HKfi3ejvvFNeSmjaVLmT3B5foiz1tTbvvyP76qIY6CZiYmIwa9Ysh8znvnfv3ko1bFfHQCfA/oFunA9ACIH/PfigY+vn69cr+65YawaUm94eeURZv3x55fV33qkMqXLmU99smfoVqPmS+/z5yvpu3ZQb24w/Dx1quf3OnUCXLsrNgSEhyl3pVc3nYamvtXn/be2rB2Cgk2oMdALsH+irV6+WgZ7Qrp0M9JLTp5Gbm1vtBFA2S01Vzur0euXJYUb5+cpZoxDKTVsVQ/viRWXd44/bry9q2DPQv/9eqUW3aQMYZ5m8dQto3lxZXnEU0MmTgLe3cpZ85owSzoGBykQ21vZV7ftva189BAOdVGOgE2D/QH/33Xdl/bzIz0/ZebNmMJw4YfNNpVZ5/33lGPXqAX/+s1KTNV7qf/xx4PaEQGY2bVLWv/WWfftiK3sF+v79Vc+sZhz+9uyz5stfeUU5Oze1YIFSn7cwcVaVfbX1/VfTVw/BQCfVGOgE2D/Qn3zySQgh8IhpnXfIEGRlZeHbb7+Vs+jZTWkpsHChMoa6fn1lPHXPnspDQqp6boLxUa6LF9u3L7ayR6DHxio30Pn5ARZmmER+PtCypbLd0aPly1u1Akwe9gRACVghlNC1tq+2vP9q++ohGOikGgOdAPsGemlpKRo1agQhBD5q1Mix9XN3YGug25OPjzLDm6ncXKU/335bub0z++ohGOikGgOdAPsG+rlz52T9/HjTpuWBfuYMsrKysHLlSvufobsyrQV6Xp7SnzVrKrdnoDscA51UY6ATYN9A/+6772T9PN/XV9bPUVZW6cl5BOeGpL0uuZPdMNBJNQY6AfYN9AkTJlisnwPK5fiCggKHDCt1Wc4MyVdeUYaVmVq40Pab4shuGOikGgOdAPsGuvGGuHdNA53186o5MyQNBmXY2vjxyrC1yEjlhjVbhq2RXTHQSTUGOgH2C/TS0lIEBARACIE99eub1c8B5VnwL774on1ninN1UVHKw0iiopxz/B07lFncfHyAFi2AyZOrnljG2X31AAx0Uo2BToD9Aj0uLk7Wz/Pq1VN22rSpnFQkMTERYWFhSExMtEOvidwPA51UY6ATYL9AX7lyJYQQ6Gp6uX3QIPt0ksgDMNBJNQY6AfYLdOMjUyeYBvqXX9qnk0QegIFOqjHQCbBfoPfs2RNCCGwxDXST53lz2BpR9RjopBoDnQD7BHpxcTH8/PzgJQRu6nRm48+Nrly5goiICFy5csUOvSZyPwx0Uo2BToB9Av3UqVOV6+e3x58TkXUY6KQaA50A+wT60qVLK9fPK4w/v3btGiIjI3HN0tPPiIiBTuox0AmwT6C/+eab1dbPleOwhk5UHQY6qcZAJ8A+gf7oo4/CSwhkG8O8Qv0cUOrsWVlZKK7qkaZEHo6BTqox0AmofaAXFhbC19eX9XOiWmKgk2oMdAJqH+jGS+lm87dbGH+elJSE8PBwJCUl1bLHRO6JgU6qMdAJqH2gf/311xBCYHM19XMAOHv2LEJDQ3H27Nla9pjIPTHQSTUGOgG1D/RRo0bBSwjcMIa5yfztRGQ9BjqpxkAnoPaB/vDDD5s//3zwYPt2kMhDMNBJNQY6AbUL9NzcXHh5eZnXz7/4wmLbqKgo+Pn5IYqP3ySyiIFOqjHQCahdoB88eNCq+jkAZGRkYMGCBcjIyKhlj4ncEwOdVGOgE1C7QJ83bx7r50R2wkAn1RjoBNQu0AcPHmx1/Tw7Oxs7duzg3xtRFRjopBoDnYDaBfo999xT4/jz8uNw6lei6jDQSTUGOgHqAz0jI8Pq+jmgzCiXkpKCwsLCWvaYyD0x0Ek1BjoB6gN98+bNrJ8T2REDnVRjoBOgPtCnTZtm0/jz5ORkjB49GsnJybXoLZH7YqCTagx0AtQH+p///Ger6+cAEBcXh65duyIuLq4WvSVyXwx0Uo2BToC6QC8rK0NQUJDV9XMiqhkDnVRjoBOgLtATExNZPyeyMwY6qcZAJ0BdoK9evdrm+dujo6MRHByM6OjoWvSWyH0x0Ek1BjoB6gL9//7v/6yav91Ueno6Zs+ejfT09Fr0lsh9MdBJNQY6AeoCvXv37qyfE9kZA51UY6ATYHugFxYWws/Hx+b6eU5ODg4dOoScnJxa9pjIPTHQSTUGOgG2B/rx48dVPf+cU78SVY+BTqox0AmwPdAXLlyICTaMPzfKz89HfHw88vPza9FbIvfFQCfVGOgE2B7oL7/8Mrawfk5kdwx0Uo2BToDtgd7mnnuQfTvMy2wYf56SkoJx48YhJSWlFr0lcl8MdFKNgU6AbYF++fJldDU9Ox80yOrjxMbGokOHDoiNja1Fb4ncFwOdVGOgE2BboG/cuFFV/ZyIasZAJ9UY6ATYFuj//Oc/WT8nchAGOqnGQCfAtkB/6oknZP28JDjYpvnbY2Ji0KpVK8TExNSit0Tui4FOqjHQCbA+0IuLi9Grfn2bx58bpaamYsqUKUhNTa1Fb4ncFwOdVGOgE2B9oP/222+snxM5EAOdVGOgE2B9oC9atKhW9fO8vDwYDAbk5eXVordE7ouBTqox0AmwPtBf+9vfZP288I47bH7+Oad+JaoeA51UY6ATYH2gv3T33fLsvMSG8edGPEMnqh4DnVRjoBNgXaBnZWWZP/980aK66yCRh2Cgk2oMdAKsC/Rt27aZP/88Ls7m4/Aud6LqMdBJNQY6AdYF+vQpU+Tzz28FBtpcPwc4Dp2oJgx0Uo2BToB1gf73P/1Jnp3nPfts3XWOyIMw0Ek1BjoBNQd6cXExJnt7s35O5GAMdFKNgU5AzYF+8uRJ8/HnKurnAJ+2RlQTBjqpxkAnoOZA/2LBAjn+PDcgQFX9HODz0IlqwkAn1RjoBNQc6FOeflqenWf161e3nSPyIAx0Uo2BTkDNgT6rcePyCWU+/1z1cfLz8xEfH4/8/HzV+yByZwx0Uo2BTkD1gX7p0iW71M+V43DqV6LqMNBJNQY6AdUH+ro1a2T9/Ka/v+r6OQDk5OTg0KFDyMnJqUVvidwXA51UY6ATUH2gzx86VJ6dpz7xRN13jsiDMNBJNQY6AdUH+oK77pKBnjtvXq2Ok56ejtmzZyM9Pb1W+yFyVwx0Uo2BTkDVgZ6Xl4etOp1d6ucAEB0djeDgYERHR9dqP0TuioFOqjHQCag60A/89JOsn99o0KBW9XMiqhkDnVRjoBNQdaAve/NNeXae9Kc/OadzRB6EgU6qMdAJqDrQl7RvLwP98ocf1vo4cXFx6Nq1K+JqeemeyF0x0Ek1BjoBlgO9tLQUO00eyFJ25kytj5OcnIzRo0cjOTm51vsickcMdFKNgU6A5UCPiYqS9fNrvr6snxPVAQY6qcZAJ8ByoK+fOFGencd16mSX4xQWFiIlJQWFhYV22R+Ru2Ggk2oMdAIsB/rqTp3Kb4ibONFOx+HUr0TVYaCTagx0AiwH+p769WWgF506ZZfjZGdnY8eOHfx7I6oCA51UY6ATUDnQfz93TtbPs3x8WD8nqiMMdFKNgU5A5UDfNmOGPDuP6djRbsfJyMjAggULkJGRYbd9ErkTBjqpxkAnoHKgr+/WrfyGuLfftttxoqKi4Ofnh6ioKLvtk8idMNBJNQY6AZUDfX/DhjLQ83gDG1GdYaCTagx0AswD/erly7J+frVePdbPieqQ0wM9OzsbDRo0wKFDh5zdFbIRA50A80A/MG+ePDs/2a6dXY9z9uxZhIaG4uzZs3bdL5G7qJNA//7776t8LVu2DDqdDtOnT5fLyDUw0AkwD/TNTzwhAz1qzBi7HicpKQnh4eFISkqy636J3EWdBLpOp4Ner4dOp7P4Ml2n1+vroktkBwx0AswD/XDjxjLQs44ccXbXiDxKnQT6Qw89hBYtWmDlypX4/fffzV7R0dHQ6XT4/vvv5TJyDQx0AsoD/fD+bFk/z/Tysnv9vLi4GFlZWSguLrbrfoncRZ0EeklJCebNm4dGjRrh1VdfNRtHeuPGDeh0Ohw4cKAuukJ2xEAnoDzQ109aJM/Oj993nwOOw6lfiapTpzfFXbp0CS+99BICAwPxn//8ByUlJQx0F8ZAJ6A80Nd16ycD/diIEXY/zrVr1xAZGYlr167Zfd9E7sApd7lv374dbdq0QceOHfHDDz9Ar9cz0F0QA52A8kA/GHiHDPTUn35ydreIPI7Thq0VFBRg2rRpqF+/PgPdRTHQCVAC3Uvk4IYD6+cAcOXKFURERODKlSt23zeRO3D6OPTk5GTs378fN27ccHZXyEYMdAKUQH9EfC3Pzn++5x4HHYc1dKLqOD3QATDMXRQDnQAl0N8VT8tAP/rqq87uEpFH0kSgd+zYERcvXnR2N8hGDHQCbk8oI+6UgZ6ye7ezu0TkkTQR6DqdDi1btrT6KUpFRUUO7pHz5eTkYOTIkQgJCYGXlxfuvfdezJgxA+3bt0dpaandj7d48WKEhIQgNzfX6m0Y6AQAPx/Ok/XzDL0eZQ74+wSAxMREhIWFITEx0SH7J3J1mgj0qVOnQqfToVGjRti+fXuV7UpLS/HNN9/gHgfV6LRk1KhRCAoKwpo1a3D06FEcOXIE/v7+WLdunUOOV1xcjLZt2+KDDz6wehsGuralpQHTpyv/dZSEhAT8X4/+8uz8YEiIw4517NjveOCB73DsGCefIrJEE4EOAEuXLoWPjw+8vb0RERFhtq6srAwrVqxAmzZtoNfr3X562MLCQjRs2BDvvfeeXPb++++jZcuWDjk7N5o3bx4CAwORl5dnVXsGurZVfKypvS1duhR6vR7v3Q5zCIG/C4Fly5Y55HiO/vcQuTrNBDoA7NmzB4GBgdDr9ZgyZQrKysqwdu1adOjQQc733q5dO6xatcrZXXWYESNGQAhh9urcuTPuvPNOs4A3SktLg7+/P4YMGWK2fPPmzahXrx4mT55s9bHT09Oh0+mwZMkSq9oz0LXNkQGYkJAAvV4PIQS2mAR6OyGg1+sdcln8119LIYTyXyKqTFOBDgAxMTFo1aoV9Ho9mjVrZhbkK1eudOgZqhbExcVh0qRJEEJg06ZNOHbsGA4ePAghBLZt22ZxmxkzZkCn0+HEiRMAgH379qF+/foYO3aszcdv3749BgwYYHFdQUEBsrOz5SslJQVCCJw8eVK2MRgMcpzwtWvXYDAY5NzbSUlJZo++jIqKktMAZ2dnw2AwoLCwEIAynDEuLk62jY6ORnp6OgDl/gKDwYD8/HwAQEpKCmJjY2XbmJgYpKamAgDy8vJgMBjkVYfU1FTExMTItrGxsUhJSQEA5Ofnw2AwICcnB4DyBSc6Olq2jYuLQ3JyMgDlKorBYJBfZjIyMszuATl79qx8KlhxcTEMBoOc4ezKlStmQ68SExNx/vx5AEpZyWAwICsrCwCQlZUFg8GAkpISAMD58+eRkJBg9n5nZmYCAK5fvw6DwSDvMdm8ORVCAKtWKaH+7bdR2LXrsvKY0wPZWLXKgGPHCmAwAFu2JGP9+jMwGJS2330XjR070mAwAIcO5WDVKgOOHLkFgwHYti0FL7zwBry8vOAlBH4WAmlCIP32F1AvLy+MGPFPuS97vWbOPHP733MGRFSZ5gL94MGDeOyxx+TT13x8fLB8+XK3D3JTY8eORVBQkPx5zpw5EELg8uXLFtvn5eUhJCQEffr0wfHjxxEQEIDXXnsNZSaTe2RmZiIsLAx+fn5o27Ytdu3aZXFf4eHhaNasmcV106dPr3T1QAiBfv36yTZCCFkyiYyMhBBChlN4eDhCQ0NlWz8/PyxYsAAAsGPHDgghZLiOHj0aXbt2lW2Dg4Mxe/ZsAMChQ4cghEB8fDwAYNy4cejQoYNs26pVK0yZMgVA5bHLU6ZMQatWrWTbDh06YNy4cQCA+Ph4CCFw6NAhAMDs2bMRHBws23bt2hWjR48GAPllZseOHQCABQsWwM/PT7YNDQ1FeHg4ACWUhRCIjIwEAERERECI8v/rhYWF4cUXXwSgfGkSQmDlypUAgG+//RZCCHmz4sCBA/H000/Lbb28vPDVV18BADZu3AghhAz4Z5/9wHjifPsVACHm3/7fu2///i7c/vlNCNHZpG1zCDHz9v8+ervt6ds/T7i9Lz26CoHWQmC6EFgj/yb0EGJohWPb43UDQgB793KYK5Elmgn0/fv3o3fv3vKMPCQkBO3atYNOp0P//v1tuvva1fXo0QN9+/aVP7/99tvQ6XTyLM2SpUuXQggBf39/DB48uFLbQYMG4fXXX0deXh42btyIxo0b4+rVq5X2M27cOOh0OotPtOIZOs/QK56hTxACp2+foY9x8Bn6qlWsoRNVRxOBHhoaKoO8SZMmmDdvHvLz83Hjxg307t0bOp0OnTp1kh/S7qykpAR+fn6YOHGiXDZ69Gj4+PhUu93hw4chhEDDhg1x69Yts3U5OTnw9vY2G+sfGhpqsVZuvNxvDLXqsIaubXVRQ98iBLKEwLdCoM3tQHdUDX3vXp6hE1VHE4Gu0+nQuHFjzJw5s1KQFBUVYdiwYdDpdPjDH/5gdsbkjmJiYiCEwNq1a+WyyZMnm112rSgqKgqNGzdGz549IYTA559/brb+5MmTZpfwAeCtt97C+PHjK+1rzJgx8PX1taqvDHRtc/Rd4Yu/+grZQsBwO8h1t8PcUXe5r1rFGjpRdTQR6JMnT8b169drbKPT6RAYGCjrlu5o2bJlEELIS7AAsGLFCgghLH6ZiY+PR9OmTdG/f38UFRXhhRdeQHBwsNl0ugcPHjSrGwPK+2msB5vq168fOnfubFVfGeja5uhx6NGLFwNCoEQILBMN8Oqr7zt00peUlBJMmlSIlJSqS09EnkwTgW6tiIgIeHt713j52ZW99dZbaNy4sdmyixcvQgiBr7/+2mz5hQsXcNddd6FXr17yMntcXBy8vLzw/vvvy3bWnqGXlpYiMDDQ4pm7JQx0z7bnL3+Rd6yNEeGsbRM5mUsFOqA8Sz0gIMDZ3XCYxx57DE899VSl5b169UJYWJj8OS0tDa1bt0aXLl0qBeqoUaPg6+uLCxcuACivoRtv/gKAJ598slIN/aeffrLpaVYMdM/2853K/O3nhUBD0QsbN56veaNaOH/+PAYOHGh29YqIyrlcoAPAb7/95uwu1Ln169fDy8sLly5dUrX9wIED8cYbb+DWrVvYvHkzGjduXOm50sOGDUOPHj2s3icD3XMV5OYi+/bZ+TGdDkL0w48/JtS8YS0kJCTg6aefNrvLn4jKuWSge6KysjJ0794d//jHP1Rtn5mZif79+6NBgwZo06YNdu7cabb+3Llz8Pb2lmOwrcFA91wnvvrKZP72ezicjEgDGOguJCYmBrNmzXLIJDt79+6tVKOvCQPdc+3o21cG+tZnhzPQiTSAgU6qMdA915GgIBnoEZMXQQgvrFrl2EQ3GAzw8vKy+h4PIk/DQCfVGOieKffGDfn88yteXtizOwNCfIU9ezIdetzMzEx89dVXcmY8IjLHQCfVGOie6djChfLs/Nf77uNjTYk0QlOB/ttvv+HAgQM1LiNtYKB7pq1PPikD/cQbb2D//usQYiP2769+cqjaun79OjZu3FjjJFREnkpTgf7444/Dy8urxmWkDQx0z3QoMFAG+tVDh7BqlfJEu7qoodsyTwKRp9FcoOv1+hqXkTYw0D3PjatX5fjzq15eQFkZfv65CEJk4uefixx67KKiImRmZsqnyRGROQY6qcZA9zz75s6VZ+eGtm0BOP4hMERkHQY6qcZA9zw/PPaYDPToN98EAGzefAFCDMfmzRcceuwLFy5g+PDhckpjIjLHQCfVGOieZ5+/vwz03BMnAACRkfEQoiciI+Mdeuz4+Hj07NkT8fGOPQ6Rq2Kgk2oMdM9yMSlJjj+/6u0NlJUB4CV3Iq1goJNqDHTPsnHaNHl2HtOxo1zOQCfSBgY6qcZA9yyrOneWgX5uwgS5/NtvoyBEAL79Nsqhx4+KikJAQACiohx7HCJXxUAn1RjonqO0tBS7fHxkoBdFR8t1u3ZdhhDzsWvXZYf24fLly5g/fz4uX3bscYhcFQOdVGOge45og0HWz6/5+sr6OcBL7kRawUAn1RjonmPVO+/Is/OznTubrTtwIBtC7MaBA479O8jOzsbu3bv590ZUBQY6qcZA9xwR7drJQE/74AOzdZz6lUgbGOikGgPdMxQUFGCbXi8DvezMGbP1x44VQIgLOHaswOH9uHDhAgoKHHscIlelqUCfPXs2RowYUeMy0gYGumfYv2ePrJ9fr1/frH4OsIZOpBWaCnRyLQx0z/DFiBHy7PzCo49WWr9lSzKEeBNbtiQ7tB/Jycl48803kZzs2OMQuSoGOqnGQPcMn7VsKQP9xscfV1q/fv0ZCNEZ69efsbC1/Zw5cwadO3fGmTOOPQ6Rq2Kgk2oMdPeXmZmJLbfDHEIAFsKUl9yJtIGBTqox0N3ftytWyOef3/Tzq1Q/BxjoRFrBQCfVGOjub3pYmDw7v/zkkxbbfPddNIRoju++i7a43l6io6PRvHlzREc79jhEroqBTqox0N1baWkpZjRsKAO9+L//tdhux440CDETO3akObQ/aWlpmDlzJtLSHHscIlfFQCfVGOjuLSoqyrx+HhdnsR0vuRNpAwOdVGOgu7c5s2bJ+nluQIDF+jkAHDqUAyGO4tChHIf2JycnB0ePHkVOjmOPQ+SqNBHoRUVFOHLkCObMmYM333wTgwYNwrPPPosRI0bgvffew5o1a3Dp0iVnd5MqYKC7t//3yCPy7PzmM89U2Y5TvxJpg1MDfe/evXjllVfg5+cHvV4PvV4PnU5X6WVc17FjR8yfPx9XrlxxZrfpNga6+8rJycFEk+le8eWXVbY9cuQWhDiNI0duObRPt27dwunTp3HrlmOPQ+SqnBLomzZtQseOHWWAe3t7o0uXLhgzZgw+/PBDLFy4EBEREZgzZw4mTpyI5557Ds2bN5cB7+vri7FjxyIzM9MZ3afbGOjua9OmTdhcw/hzI9bQibShzgO9V69e0Ov18Pf3x9ChQ7Fhwwbk5+dbte25c+fwr3/9Cx07doROp0OjRo2wYcMGB/eYqsJAd19j//53OX97fmBglfVzANi2LQVCTMC2bSkO7VNKSgomTJiAlBTHHofIVdV5oAcFBWH69Om4fv16rfazd+9e9O7dGx999JGdeka2YqC7r7/edZc8Oy8aMKDatmvXnoYQ92Pt2tMO7dPp06dx//334/Rpxx6HyFXVeaDfvHlT0/sj6zHQ3VNCQgLeNb3c/sUX1bbnJXcibdDEXe43btxwdhdIBQa6e/rss8+srp8DDHQirdBEoHfs2BEXL150djfIRgx09/SXvn1l/bz4jjuqrZ8Dxkvurevkknvr1q15yZ2oCpoIdJ1Oh5YtWyIqKsqq9kVFRQ7uEVmDge5+cnJy0L1ePXl2XjZ4cI3bbN9+CUL8E9u3O3auiEuXLuGf//wn56QgqoImAn3q1KnyrvXt27dX2a60tBTffPMN7rnnnjrsHVWFge5+Nm7caF4/r2b8uREvuRNpgyYCHQCWLl0KHx8feHt7IyIiwmxdWVkZVqxYgTZt2shJZsj5GOjuZ8yYMTbVzwHjxDLRdTKxTHR0NCeWIaqCZgIdAPbs2YPAwEDo9XpMmTIFZWVlWLt2LTp06CAnoWnXrh1WrVrl7K4SGOjupqysDPfcdZecv72sSZMa6+cAp34l0gpNBToAxMTEoFWrVtDr9WjWrJlZkK9cuRKlpaXO7iLdxkB3LzExMehqenZuRf0cAA4fzoUQx3H4cK5D+5ebm4vjx48jN9exxyFyVZoL9IMHD+Kxxx6T07z6+Phg+fLlDHINYqC7lzlz5mCCaaAvWmTVdqyhE2mDZgJ9//796N27tzwjDwkJQbt27aDT6dC/f39+K9cgBrp7eeKJJ6x6/nlFO3akQYjp2LEjzaH9S0tLw/Tp05GW5tjjELkqTQR6aGioDPImTZpg3rx5yM/Px40bN9C7d2/odDp06tQJqampp2uqYgAAIABJREFUzu4qmWCgu4/r16/DR6+X9XM0a2ZV/RwAvvvuFIRoie++O+XQPp46dQotW7bEqVOOPQ6Rq9JEoOt0OjRu3BgzZ85ETk6O2bqioiIMGzYMOp0Of/jDHxAdHe2kXlJFDHT38f3335vXz4cMsXpbXnIn0gZNBPrkyZNrfFjL5MmTodPpEBgYiB07dtRRz6g6DHT3MWzYMFX1c4CBTqQVmgh0a0VERMDb2xs+Pj7O7gqBge4uiouLcccdd5jXz60Yf260bl0shHgI69bFOrCXQGxsLB566CHExjr2OESuyqUCHQC2b9+OgIAAZ3eDwEB3FwcOHICXEKrq5wCwdetFCDEWW7c69nkMFy9exNixY/ncB6IquFygA8Bvv/3m7C4QGOjuYsKECarr5wAvuRNphUsGOmkDA909tGvXzrx+bsX87aaOHs2HEIk4ejTfQT1U5OfnIzExEfn5jj0Okauq80D/+9//jpSUFLvsa82aNVi9erVd9kW2Y6C7vrNnz0IIYfP87aY49SuRNtR5oOv1evj6+uKNN97AgQMHbN4+MzMT//3vf/HAAw9Ar9fjX//6lwN6SdZgoLu+efPmwUsI+fxzNG1qU/0cAA4evAkh9uHgwZsO6qXi5s2b2LdvH27edOxxiFxVnQf66dOnERYWBp1OB71ej7vuugujRo1CREQETp48ifT0dBQWFgIAbty4gaSkJGzduhUzZsxAv3794O3tDb1ejyZNmmDBggV8NroTMdBdX2hoKB4xPTsfNMjmfbCGTqQNdR7okyZNwvbt23Ho0CEMHjwYvr6+Mtyrexnndm/bti3mzp3Lb+kawEB3bVlZWfDy8qpV/RwAdu26DCHmYteuyw7oZbnLly9j7ty5uHzZscchclV1Hug6nQ5PPPGE/PnKlSuYO3cuhg0bhvvuuw/e3t4yvI0TyYSGhmLKlCmqLtGT4zDQXduqVasghFA9/txozZrfIEQQ1qxx7OiT3377DUFBQRzlQlSFOg90b29v9OzZ02yZTqfDc889J3++fv262aV30iYGumsbMmSI+fhzFfVzgJfcibSizgO9ZcuWCAkJQZnJB4dOp0OvXr3quitUSwx011VQUICAgABVzz+viIFOpA11HuivvPIK9Ho9/va3vyEqKgplZWUMdBfFQHddW7duhRCi1vVzAIiMjIcQ3REZGW/nXpqLj49H9+7dER/v2OMQuao6D/Tz58+jWbNm8ka4hg0bQqfT4a677sLChQuxf/9+XLt2ra67RSow0F3XqFGj7FI/B4AtW36HEG9gy5bf7dxLc7///jveeOMN/P67Y49D5KqcMlNcZmYmJk+ejAcffNDsLnbTu9rvvvtuPPfcc5g6dSrWrVuHhIQEZ3SVqsFAd00lJSVo2rSpXernAC+5E2mF06d+vXnzJnQ6HVq3bo1x48bhqaeeQnBwsNmd7saQ9/f3R/fu3TFmzBhnd5vAQHdVhw8fhhDCLvVzAPj55yIIkYaff3bsnBBFRUVIS0vj3BNEVXB6oAOWb4q7dOkStm7ditmzZ2PIkCF44IEH4OXlJQOenI+B7preffddu9XPAU79SqQVmgj0Cxcu4MSJEzW2y8/Px/HjxxEREVEHvaKaMNBdT1lZGe677z671c8BYP/+GxBiC/bvv2HHnlZ248YNbNmyBTduOPY4RK5KE4FOromB7npOnToFIQS8hECOl5eq559XxBo6kTYw0Ek1BrrrmTFjBoQQ5vO32/j884r27MmEEJ9jz55MO/XSsszMTHz++efIzHTscYhcFQOdVGOgu55OnTpBCIF3TQN90aJa7XP16pMQwgerV5+0Uy8tO3nyJHx8fHDypGOPQ+SqGOikGgPdtSQlJUEIASEEDgYG2qV+DvCSO5FWMNBJNQa6a/n0009l/Tzf19cu9XOAgU6kFQx0Uo2B7lq6detm9/o5APz4YwKE6IMff3Ts5E8JCQno06cPJ5kiqgIDnVRjoLuO5ORkebl9XosWdqufA8CmTUkQYig2bUqyQ0+rlpSUhKFDhyIpybHHIXJVDHRSjYHuOv7973/LQE+4//7yQI+Lq/W+ecmdSBsY6KQaA9119OjRQ9bPS/z97VY/B4Djx0sgRDaOHy+xQ0+rVlJSguzsbJSUOPY4RK6KgU6qMdBdw6VLl+TZ+ZD77rNr/Rzg1K9EWsFAJ9UY6K5h4cKFMtB39u1r1/o5AOzbdw1CrMW+fY597PG1a9ewdu1aPl6ZqAoMdFKNge4annjiCRnoN3v1smv9HGANnUgrGOikGgNd+9LS0qDT6SCEQMd27VAWEGDX+jkA/PTTVQixDD/9dNUu+6vK1atXsWzZMly96tjjELkqBjqpxkDXvi+++EKenS96/XW7188B1tCJtIKBTqox0LXP9HJ76jvv2OX55xWdOFEGIYpx4oR9zvirUlZWhuLiYpTZ6coCkbthoJNqDHRtS0lJkZfbH3jgAZSFhdm9fg6whk6kFQx0Uo2Brm2mk8nMmDYNcED9HAA2bDgHIZ7Dhg3n7LZPS86dO4fnnnsO58459jhEroqBTqox0LXt0UcflYF+Ye3a8rPzwYPtehwGOpE2MNBJNQa6dp0/f16GeadOnYC5cx1SPwd4yZ1IKxjopBoDXbtmz54tA/2TTz4BnnnGbs8/r4g3xRFpAwOdVGOga9cf//jH8svtiYlAo0ZKmDdtatf6OcBha0RawUAn1Rjo2hQbGyvDvHv37sCvv5afnQ8aZPfjcWIZIm1goJNqDHRt+uCDD2Sgf/bZZ8Cnnzqsfg6whk6kFQx0Uo2Brj1lZWW4//77IYSATqdDamoqYDr+3M71c4APZyHSCgY6qcZA155ff/1Vnp0/+eSTQHFx+fhzB9TPAdbQibSCgU6qMdC15+2335aBHhERARw/7rDx50bHj5dAiGwcP17ikP0blZSUIDs7GyUljj0OkatioJNqDHRtKS4uRtOmTSGEgI+PD65fv+7Q8edGrKETaQMDnVRjoGvL9u3b5dn5Sy+9pCx0cP0cADZtSoIQQ7FpU5JD9m+UlJSEoUOHIinJscchclUeG+g5OTkYOXIkQkJC4OXlhXvvvRczZsxA+/btUVpaavfjLV68GCEhIcjNzbX7vqty7NgxPP/882jevDl8fHwQHByMvn37Ijk52aydpffCGgx0bQkPD5eB/uOPP5rXz+08f7upH39MgBB98OOPCQ7Zv1FCQgL69OmDhATHHofIVXlsoI8aNQpBQUFYs2YNjh49iiNHjsDf3x/r1q1zyPGKi4vRtm1bfPDBBw7Zf0VJSUnw8fHBgAEDsGXLFhw+fBhbt27F1KlTcfnyZbO2Fd+L2NhYq47BQNeOnJwc+Pn5QQiBoKAgFBQUmI8/t+PzzyviJXcibfDIQC8sLETDhg3x3nvvyWXvv/8+WrZs6ZCzc6N58+YhMDAQeXl5DjuG0ZIlSyCEwDfffFPtVJmW3gtrMdC1Y9WqVfLsfMyYMcpC0/HnixY57NgMdCJt8LhAHzFihPzgM746d+6MO++802KopaWlwd/fH0MqnOFs3rwZ9erVw+TJk60+dnp6OnQ6HZYsWVLrf0dNrl69ig4dOkAIgeDgYAwZMgRbtmwxa2PpvejWrZvVx2Cga8df/vIX+Ts8dOiQstB0/nY7Pv+8otWrT0IIH6xefdJhxwCAkydPwsfHBydPOvY4RK7K4wI9Li4OkyZNghACmzZtwrFjx3Dw4EEIIbBt2zaL28yYMQM6nQ4nTpwAAOzbtw/169fH2LFjbT5++/btMWDAgFr9G6wxffp09OjRA7/88gu2bduGl156CUIITJ06Vbax9F5UV58sKChAdna2fKWkpEAIYfYBazAYcOXKFQDKRCAGgwHFxcUAlDLA2bNnZduoqChkZGQAUL4cGAwGFBYWAgCSk5MRZxJC0dHRSE9PB6BcXjYYDMjPzwcApKSkmJUJYmJilAlVAOTl5cFgMMirIqmpqYiJiZFtY2NjkZKSAgDIz8+HwWBATk4OAOULWHR0tNn7Zbz/oLCwEAaDQX6ZycjIQFRUlGx79uxZefNWcXExDAaDnBDlypUrZmOpExMTcf78eQBAaWkpDAYDsrKyAABZWVkwGAxyqNb58+fNfkcGgwGnT5+GXq+HEAItWrRQLrcXF+NCw4ZIc1D9PC1NOSM3GIBFi65BiO+waNE1uSwtza6HAwBkZmbi888/R2Zmpv13TuQGPC7QAWDs2LEICgqSP8+ZMwdCiEq1ZaO8vDyEhISgT58+OH78OAICAvDaa6+ZXcrOzMxEWFgY/Pz80LZtW+zatcvivsLDw9GsWTP7/oMqmD17Npo2bVrpg69nz57w9fXFrVu35LKK70V1pk+fXumMXgiBfv36yTZy/DOAyMhICCFkOIWHhyM0NFS29fPzw4IFCwAAO3bsgBBChuvo0aPRtWtX2TY4OBizZ88GABw6dAhCCMTHxwMAxo0bhw4dOsi2rVq1wpQpUwBUnoxkypQpaNWqlWzboUMHjBs3DgAQHx9vdoY7e/ZsBAcHy7Zdu3bF6NGjAUB+mdmxYwcAYMGCBfDz85NtQ0NDER4eDkAJZSEEIiMjAQAREREQovz/emFhYXjxxRcBKF+ahBD/v727j46yOvA4/kwSCIkhEImICtZWRVtP19LqHl7KAm2lFbTVPYBF7KIVsS/QWhdXqh6xUD09euzWbaVSXHBhS93denosuGpBoGKxFmGMIERZCCGQhMQEQkIyef3tH5CHmRBC5maemXnu8/2ckz+cmcy9Az398uTmuVerV6+WJK1Zs0aO47i/TDlt2jRNnjzZ/d7MzExNmzYt5u+jqqpK2rZNsx1Hizy6/3zRotMX/919LVqU8CEBnEMggz527Fh95Stfcf/7hz/8oUKhUI8bVqxYsUKO4+i8887TjBkzznjt9OnT9e1vf1snTpzQyy+/rMGDB3d7iMSPfvQjhUIh96o12qZNm7oNZndf0VeD0Y4cOaIBAwboJz/5yRnP3X///Wf8w6Xrn0VPuEJPvyv0d999V5/+9Kfd/1289NJLamlpkZ56SkWOo1WOo2M//3nXv8o+i75C37z5uH7xize1efNxT6/Qjx07pnXr1unYsWOJf3PAAoELeltbm3Jzc/Xggw+6j82dO1f9+/fv8fveeustOY6jvLy8mCtc6WRg+vXrp4MHD7qPTZgwodu18s4fcXdGI1p5ebmWL1/eq6/O/8Pv6j/+4z/kOI7eeeedM56bOXOm8vLy3F/86+7PIh6soafejh073JiPGTPm9BNTp2r7qce3//73ns4hWVuysvUr0LPABX3nzp1yHEf//d//7T720EMPxfxYs6twOKzBgwdr3LhxchxHv/rVr2Ke37Fjxxk/tp43b57uv//+M97r3nvvVXZ2dgI+Sfd+8pOfyHGcM+41b25u1vnnn69/+qd/ch/r7s8iHgQ99X7wgx+4QV+2bNnJB1tbpfx8tTiOygsL1XLqpx5eaWlpUXl5+cmfDFgwDuBXgQv6ypUr5TiO+yNOSVq1apUcx4n58Wqn4uJiDR06VDfeeKNaWlr0jW98Q4WFhTE/9nvzzTdj1mWlk/9I6FxvjXbDDTdo1KhRiftAXTzzzDNyHEevvvpqzOMPPPCA+vXr5/5in9T9n0U8CHpqNTc3a8iQIXIcRwMGDDi51asUe/+5R/u3A0g/gQv6vHnzNHjw4JjHDh48GHuFc0pJSYmGDx+u8ePHuz9m37NnjzIzM/Uv//Iv7ut6e4Xe3t6uQYMGdXvlnigHDx5UTk6OLr30Uv32t7/V2rVrNWvWLIVCoTM+X3d/FvEg6KnV+UuHjuNo5syZp584df/5AcfR3WPH6sCBA57O48CBA7r77rutGQfwq8AFfcyYMfrSl750xuPjx4/XlClT3P8uLy/X5Zdfrs9//vNnBOuee+5Rdna2SkpKJJ1eQ+/85SpJmjhx4hlr6G+88UZS1gD//Oc/a/To0crOztbAgQP1la98RevXrz/jdWf7s+gtgp5aN998sxv0119//fQTp/ZvL3Ycjb72WvduAK8UFxdr9OjR1owD+FXggn42v//975WZmalDhw4Zff+0adN09913q7GxUWvXrtXgwYPd3/budMcdd2js2LGJmG5aIOipU1lZqczMTDmOo0suueT0XRdJOP8cQHoi6Kd0dHRo9OjR+v73v2/0/VVVVbrxxhuVk5OjK664IvaKSdL//d//qV+/fqd38bIAQU+dp59+2r06//GPf3z6iSScfw4gPRH0KDt37tTjjz/uyX7uGzduPGMN2+8Iemp0dHTommuucYMe8yPoqPPP33voIRUUFOi9997zdD7vvfeeVeMAfkXQYYygp8bWrVvdmI8bNy72yajzzyvffFNPPvnkWXdATJTKykqrxgH8iqDDGEFPjW9/+9tu0F944YXTTyTp/HMA6YmgwxhBT766ujr33PP8/PzYzZCi189vu03Hjx/Xpk2bdPz4cU/nZNs4gF8RdBgj6Mm3bNky9+r8u9/9buyTUevnWrrUui1Z2foV6BlBhzGCnnzXXXedG/Qzwha1fq49e9TU1KS9e/e6h9h4xbZxAL8i6DBG0JMrHA67Mf/85z8f+yTr50DgEXQYI+jJ9f3vf98N+tKlS2Of7Gb/9oMHD2r+/PkxpwB6wbZxAL8i6DBG0JPnxIkTGjRokBzHUW5u7plngp/av71z/Vw6edb7Zz/72Ziz4r1g2ziAXxF0GCPoybNixQr36nz27NlnvmDq1NNB37076fMDkHoEHcYIevJcf/31btDffvvt2CdPnX/O/u1AsBF0GCPoybFt2zY35qNGjVJH12Cf5fzz999/X5dcconef/99T+dn2ziAXxF0GCPoyRG9M9xvfvObM1/Qzfq5dPII4EWLFqm8vNzT+dk2DuBXBB3GCLr3amtrlZOT0/3OcJ1YPwcggo4+IOje+8UvfuFenc+fP//MF/Swft7Q0KC//e1v3f8jIIFsGwfwK4IOYwTdWx0dHbrqqqvcoHd7u9ZZ1s8l+7ZkZetXoGcEHcYIurfeeOMNN+YTJ07s/kVd9m+P1tjYqKKiIjU2Nno6T9vGAfyKoMMYQffWrbfe6gb9v/7rv7p/UZf92wEEF0GHMYLunZKSEmVkZMhxHF100UVqbm4+80Xn2L/90KFDWrhwoQ4dOuTpXG0bB/Argg5jBN07DzzwgHt1vmTJku5f1OX886527dqlyy+/XLt27fJ0rraNA/gVQYcxgu6NhoYGDR48WI7jqH///jpy5Ej3L4xeP//1r5M7SQBph6DDGEH3xnPPPedend95551nfyHr5wCiEHQYI+iJ19HRoc985jNu0Hfs2NH9C3tx/vmuXbs0cuTIpPwo3KZxAL8i6DBG0BNv/fr1bszHjx9/9hdGr593uf+8U1lZmRYsWKCysjKPZmvnOIBfEXQYI+iJd9NNN7lB/5//+Z+zv5D1cwBdEHQYI+iJVVxcrFAoJMdxNGLECLW2tp79xb1YP29sbNSuXbuSsuGLTeMAfkXQYYygJ9a9997rXp0/+eSTZ39hL9bPJfu2ZGXrV6BnBB3GCHriHDlyRAMGDJDjOBo4cKCOHTt29hf3Yv1ckurr67V161bV19d7MGN7xwH8iqDDGEFPnEWLFrlX5/fff3/PL+5h/3YAwUXQYYygJ0ZjY6MKCwvlOI4yMzNVWlra8zdEr593dwLbKeXl5VqyZInKy8sTPGO7xwH8iqDDGEFPjOiNZG6//faeXxy9ft7l/POuioqKNGzYMBUVFSV4xnaPA/gVQYcxgt537e3tuvLKK92gn/MXvnq5fg4geAg6jBH0vvvDH/7gxnzSpEnn/gbWzwGcBUGHMYLeNx0dHfr7v/97N+ivvPLKub8pjv3bd+/erVGjRmn37t0JmnEwxgH8iqDDGEHvmw0bNrgxv/baa9XRw3q4pF7ff96ptLRU3/ve9879S3Z9ZNs4gF8RdBgj6H3z5S9/2Q36iy++eO5vYP0cQA8IOowRdHPvvPOOG/MrrrhCbW1t5/6mOPdvj0QiKikpUSQSScCMgzMO4FcEHcYIurlbbrnFDfry5ct7901xnn9u25asbP0K9IygwxhBN/PBBx+4Mb/44ot7d8UZ5/q5dPLvZ/369Z7//dg2DuBXBB3GCLqZb33rW27Qf/7zn/fum7ZtO311fttt3k4QgC8RdBgj6PH76KOPlJGRIcdxdP755/f+oJGnnor7/PPKyko9/fTTqqys7MOMgzcO4FcEHcYIevxmz57tXp0//vjjvf/GqVNPB72X92GHw2ENHDhQ4XDYcLa9Y9s4gF8RdBgj6PHZu3evMjMz3avzXv+5tbZK+flxrZ8DCB6CDmMEPT533nmne3X+05/+tPffyPo5gF4g6DBG0Hsv+uq8oKAgvj8zg/VzSSouLta4ceNUXFxsMOPes20cwK8IOowR9N6LvjpfsmRJfN8cvX7ei/vPO5WUlGj27NkqKSmJb7w42TYO4FcEHcYIeu90vTo/duxY77+Z9XMAvUTQYYyg987tt9/uXp0vXrw4vm+O3r89zvXzlpYWVVVVqaWlJb4x42TbOIBfEXQYI+jnVlRUpFAoJMdxVFhYqOPHj8f3Bn04/9y2LVnZ+hXoGUGHMYJ+bjfffHP8u8JFi3P/9mhHjx7Vyy+/rKNHj8Y/boDHAfyKoMMYQe/Z1q1b3ZgPHz5cTU1N8b2Bwf7tAIKLoMMYQT+7jo4OTZw40Q36b37zm/jfpA/r55JUVVWl5557TlVVVfGPHeBxAL8i6DBG0M/uT3/6kxvzK6+80uwXueI8/7yr7du3KzMzMylr2zaNA/gVQYcxgt699vZ2jRo1yg367373O7M36sP6OYDgIegwRtC7t2rVKjfmn/vc59Te3h7/m7B+DiBOBB3GCPqZGhsbNWLECDfoGzZsMHujPq6fSyePap08ebI++ugjszkEdBzArwg6jBH0M/3sZz9zY37jjTeav1Ef188lad++fZo2bZr27dtnPo8AjgP4FUGHMYIeq7q6Wvn5+XIcRxkZGdq5c6f5m0Wvn/fy/HMAwUbQYYygx/rBD37gXp3PmTPH/I2i18+HDjVeP29ra1NDQ4Pa2trM5xLAcQC/IugwRtBP27Nnj7KysuQ4jnJzc1VeXm7+ZtHnn8+YYfw2tm3JytavQM8IOowR9JM6Ojr0ta99zb06X7RoUd/eMPr882efNX6bmpoarVmzRjU1NX2bT8DGAfyKoMMYQT9p3bp1bsxHjBihEydO9O0No88/Z/0cQC8RdBgj6FJzc7OuvPJKN+gvvvhi394w+vzzPqyfSyevaFevXp2UK2ebxgH8iqDDGEGXnnzySTfm48ePV0dfN4CJvv+8D+vnkn1r26yhAz0j6DAW9KBXVFRo4MCBchxHoVBIO3bs6Pub9uH8867a29sViUTMdqoL8DiAXxF0GAt60O+44w736nzu3LmJeVPuPwdgiKDDWJCDvnHjRjfmBQUFiTnSM0H3n3fat2+fbr311qTs4GbTOIBfEXQYC2rQm5ubdfXVV7tBX7ZsWWLeOIHr55K0d+9eTZkyRXv37k3A5IIzDuBXBB3Gghr0J554wo356NGjE7emm4D92wEEF0GHsSAGff/+/crJyXH3aw+Hw4l78+j7zzn/HECcCDqMBS3oHR0dmjp1qnt1ft999yXuzaPvP0/Q+ee23U7GbWtAzwg6jAUt6GvWrHFjftFFFyX2c0fv3254/nlX1dXVWr58uaqrqxPyfkEZB/Argg5jQQp6dXW1CgsL3aD/4Q9/SOwA0fu3s34OwABBh7EgBX3WrFluzKdNm5b4ATzYv722tlYvvfSSamtrE/J+QRkH8CuCDmNBCXr04SsFBQWqqKhI7AAerJ9L9q1ts4YO9Iygw1gQgl5XV6cRI0a4QV+5cmXiB/Fg/VySWltbVVNTo9bW1oS9ZxDGAfyKoMNYEIJ+9913uzG/4YYb+n74SndYPweQAAQdxmwPevSP2vPy8lRSUuLNQB6df75//37NmjVL+/fvT9h7BmEcwK8IOozZHPSPP/5Yw4YNc4O+fPlybwZK4PnnXX344YeaMGGCPvzww4S9ZxDGAfyKoMOYzUG/7bbb3JhPmTLFmx+1S7H7t0+f7s0YAAKBoMOYrUF/8cUXY36r/fDhw94NlsDzzwEEG0GHMRuDfuDAAQ0aNMgN+u9+9ztvB/Tw/PNwOKzc3NzE7jcfgHEAvyLoMGZb0FtbWzVu3Dg35t/85je9HvD0+ecJvP+805EjR/TMM8/oyJEjCX1f28cB/Iqgw5htQX/sscfcmF922WU6duyYtwNGr58n8P5zAMFE0GHMpqBv2bJFGRkZchxHmZmZ2rp1q/eDenz+eV1dnV577TXP/35sGwfwK4IOY7YE/eOPP9all17qXp0vWbIkOQN7uH4u2bclK1u/Aj0j6DBmQ9Db29s1ZcoUN+bjx49XW1ub9wN7vH4uSc3NzSorK1Nzc3PC39vmcQC/IugwZkPQH3/8cTfmhYWFKisrS87ArJ8DSDCCDmN+D/rGjRvddfNQKKQ//elPyRs8Cfefl5aWau7cuSotLfXk/W0dB/Argg5jfg56eXm5LrzwQvfq/LHHHkvuBDzavz3anj17dN1112nPnj2evL+t4wB+RdBhzK9Bj0QiGj16dMwpaklZN+/k4f7tAIKLoMOYH4Pe0dERcyTqiBEjVFVVldxJRJ9/PmNGcscGYC2CDmN+DPqzzz7rxnzAgAF69913kz+J6PPPn33Ws2GKiopUWFiooqIiz8awcRzArwg6jPkt6H/+85+VlZXlBv23v/1taiaShPVzSaqoqNATTzyhiooKz8awcRzArwg6jPkp6Hv37tWQIUPcmC9YsCA1E4m+/5z1cwAJRNBhzC9B//jjj3XllVe6Mf/qV7+a3F+CixZ9/7nH6+f19fXasmWL6uvrGQcIAIIOY34IeiQUR5a0AAAUp0lEQVQS0T/8wz+4Mb/mmmu8P3SlJ0k8/9y2LVnZ+hXoGUGHsXQPekdHh771rW+5Mb/wwgt14MCB1E7K4/3bozU1Nam4uFhNTU2MAwQAQYexdA/6woUL3Zjn5OTonXfeSe2EWD8H4CGCDmPpHPR//dd/dWMeCoX00ksvpXpKSd+/vaysTD/60Y8835/etnEAvyLoMJauQf/P//xPN+aO4+hZD+/1jovH55939cEHH+gzn/mMPvjgA8YBAoCgw1g6Bv1///d/Y+41f/TRR1M9pdOi18/ZjxxAghF0GEu3oL/xxhsaMGCAG/N7771XHemyTp2E888BBBtBh7F0CvqWLVuUm5vrxnzatGmpu9e8Oyk4/3znzp36xCc+oZ07dzIOEAAEHcbSJeh//etfNXDgQDfmN998s5qbm1M6pzMk8f7zTocPH9bDDz+sw4cPMw4QAAQdxtIh6G+//bYGDRoUswtcJBJJ2XzOivVzAB4j6DCW6qC/+eabysvLc2M+adIknThxIiVz6VGK1s9PnDih7du3e/5nYts4gF8RdBhLZdDfeOONmDXzL33pS2poaEj6PHolBevnkn1bsrL1K9Azgg5jqQr6unXrYn6b/Wtf+5oaGxuTOoe4JPn+8062XTlzhQ70jKDDWCqC/sILLygzMzPmF+DScs08WhL3bwcQXAQdxpId9CeffDJmB7jbbrst/X6bvasU7t9u22+f81vuQM8IOowlK+htbW26//77Y2I+b948tbe3ezpuQkSvn0+fntShbbs/nPvQgZ4RdBhLRtAbGhp0yy23xMR88eLF6bMD3Lmk4P5zAMFE0GHM66AfPnxYX/jCF9yQZ2ZmatmyZZ6M5RnWzwEkCUGHMS+Dvm3bNg0fPtyNeX5+vl5//fWEj+OpFO/fbtspaJy2BvSMoMOYV0F/4YUXlJ2d7cbct+umKbr/vJNt55RzHjrQM4IOY4kOektLi+bNmxezXj527FhVVlYm5P2TLkX3nwMIJoIOY4kMemlpqcaMGRMT8+9+97vpf1taT1K8ft7U1KTi4mI1NTUxDhAABB3GEhX0l19+WQUFBW7I+/fvr+effz5Bs0yRNDj/3LYtWdn6FegZQYexvga9qalJP/zhD2Ouyi+77DL97W9/S/BMUyDF6+eSVF9fry1btqi+vp5xgAAg6DDWl6CHw2Fdc801MTH/x3/8Rx09etSDmabAU0+xfg4gqQg6jJkEva2tTT/72c/Ur18/N+TZ2dn65S9/6Z/NYnpj6tSUn39eUVGhJ554QhUVFYwDBABBh7F4g/7+++/r+uuvj7kqv/baa/15S1pPWlul/PyUrp9LUlFRkQoLC1VUVMQ4QAAQdBjrbdAjkYgeffRRZWVluSEPhUJauHBh+p+UZmLbttNX5zNmpHo2AAKCoMNYb4K+fv16XXXVVTFX5VdffbX+8pe/JHGmScb6OYAUIOgw1lPQy8rKNGPGjJiQZ2Vl6ZFHHrH/PuI0WD+XpD179ui6667THo/nYNs4gF8RdBjrLugNDQ167LHHlJubGxPzMWPG6L333kvhbJMkTdbPpZOb9cydO1elpaWMAwQAQYex6KC3tbVpxYoVuvjii2NCXlhYqBUrVvjj7PJEiF4/T9H95wCCiaDDWGfQV69efcY95VlZWZo3b55qa2tTPc3kSqP18+bmZpWVlXm+fa5t4wB+RdBhrDPoXb++/vWvq7i4ONXTS43o/dtTvNZr25asbP0K9Iygw1jXoI8ZM0abNm1K9bRSJw32b49WV1en1157zZPz6m0eB/Argg5jnUH/u7/7O73yyit27fRmIg32bwcQXAQdxjqDbs3+632VZuefHzlyRM8884yOHDnCOEAAEHQYS+R56FZIo/Vz6eQBOLm5uQqHw4wDBABBhzGCHiXN1s8BBA9BhzGCHoX1cwApRtBhjKBHiV4/X7o01bORJH344YeaMGGCPvzwQ8YBAoCgwxhBj5Jm6+eStH//fs2aNUv79+9nHCAACDqMEfRTWD8HkAYIOowR9FOi18/T6Pzz1tZW1dTUqLW1lXGAACDoMEbQT4nevz1N1s8l+7ZkZetXoGcEHcYI+inR55/v3p3q2bhqa2v10ksveX5Ajm3jAH5F0GGMoCv2/POhQ1k/B5AyBB3GCLpizz9Po/VzSaqurtby5ctVXV3NOEAAEHQYI+hK2/Vzyb61bdbQgZ4RdBgj6Iq9/zyN1s8BBA9Bh7HABz36/nPWzwGkGEGHscAHPU3vP++0d+9eTZkyRXv37mUcIAAIOowFPuhpuH97tH379unWW2/Vvn37GAcIAIIOY4EPehru3w4guAg6jAU66D7Yv729vV2RSETt7e2MAwQAQYexQAc9+v7zND3/3LbbybhtDegZQYexQAc9+v7zX/861bPpVk1NjVavXq2amhrGAQKAoMNYoIMevX876+cA0gBBh7HABj16//Y0XT+XTl7RrlmzJilXzjaNA/gVQYexwAY9jfdvj2bb2jZr6EDPCDqMBTboPlg/l6S2tjY1NDSora2NcYAAIOgwFtigs34OIA0RdBgLZNB9sn4undxZbdq0aUnZwc2mcQC/IugwFsig+2T9XJI++ugjTZ48WR999BHjAAFA0GEskEFP8/3bAQQXQYexQAY9ev/2Dz5I9WwAwEXQYSxwQffZ+efbt29XZmZmUm4ns2kcwK8IOowFLuhpfv55V1VVVXruuedUVVXFOEAAEHQYC1zQWT8HkMYIOowFLug+O//86NGjevnll3X06FHGAQKAoMNYoILug/PPu7JtS1a2fgV6RtBhLFBB99n6uSS1tLSoqqpKLS0tjAMEAEGHsUAFPXr9PI33bwcQXAQdxgIVdJ+tn0tSSUmJZs+erZKSEsYBAoCgw1hggu7D9XNJKi4u1rhx41RcXMw4QAAQdBgLTNB9tH87gOAi6DAWmKBHn3/O/ecA0hRBh7HABD36/PPdu1M9m14Lh8MaOHCgwuEw4wABQNBhLBBBjz7/3Af7t0errKzU008/rcrKSsYBAoCgw1gggs76OQCfIOgwFoig+3j/9rq6Oq1fv97zvx/bxgH8iqDDWCCCHn3/uY/WzyX7tmRl61egZwQdxqwPus/OP+8qEomopKREkUiEcYAAIOgwZn3Qfbh/O4DgIugwZn3Qfbx+LkmlpaX63ve+p9LSUsYBAoCgw5j1Qffh/u3Rdu/erVGjRmm3x2v/to0D+BVBhzGrg+7T/dsBBBdBhzGrgx69fn7bbameDQCcE0GHMauDbsH550VFRRo2bJiKiooYBwgAgg5jVgfd5+vnklReXq4lS5aovLyccYAAIOgwZm3QWT8H4EMEHcasDbol6+f19fXaunWr6uvrGQcIAIIOY9YG3YL1c8m+LVnZ+hXoGUGHMWuDbsH6uSQ1NjZq165damxsZBwgAAg6jFkZdNbPAfgUQYcxK4Nu0f7tZWVlWrBggcrKyhgHCACCDmNWBj16/fzZZ1M9mz7ZtWuXRo4cqV27djEOEAAEHcasDPrUqb49/xxAsBF0GLMu6K2tUn6+b88/BxBsBB3GrAv6tm3WrJ9LJ39EffnllyflR+E2jQP4FUGHMeuC/tRTvj7/vKtDhw5p4cKFOnToEOMAAUDQYcy6oLN+DsDHCDqMHTt2TI7jqKysTHV1df7+qqlR3cCBqnMc1RUWqu7YsdTPqY9flZWV+stf/qLKykrG4StpXx387knKEHQYKysrk+M4fPHFF1/uV12dJT+x8yGCDmPt7e0qKyvTMQuuZm386vwHl9c/QbFtHL769sUVeuoQdMBSdXXJ+R0H28YB/IqgA5ayLbQEHegZQQcsZVtoCTrQM4IOWCoSiWjRokWKRCKMAwQAQQcAwAIEHQAACxB0AAAsQNABALAAQQcAwAIEHQAACxB0wBKPPPJI0saqra3VypUrtWDBAn3nO9/RggULtHLlStXU1CRsjGR+HsAGBB2wRL9+/XTfffed9fnS0tKEjLN+/XoVFBRo0qRJmj9/vh5++GHNnz9fkyZN0vnnn68NGzYkZJxkfR7AFgQdsMTatWuVk5OjOXPmxByQcfz4cT344IPKyclJyDhXXXWV/vjHP551DiNHjkzIOMn6PIAtCDpgkU2bNik/P18zZ85UJBLR0qVLNXToUGVlZWnu3LkJGeO88847625tTU1Nys3NTcg4UnI+D2ALgg5YZtu2bcrLy1N+fr4yMjJ0yy23qLi4OGHvP3XqVM2ZM0eHDx+Oefzw4cO65557NGXKlISNJXn/eQBbEHTAIjt27NANN9ygUCikUCik8ePHq62tLaFjVFdXa/r06erfv7+GDBmiT37ykxoyZIiys7M1Y8YMVVdXJ2ysZHwewBYEHbDEzJkzlZmZqUsuuUQrV67UW2+9pYKCAt10002eHGjS0NCgcDisLVu2KBwOq6GhIaHvn+zPA/gdQQcskZeXp8WLF6uxsdF9LBwO68ILL9TEiRNVX1/fp/dP9m1kXn8ewDYEHbBERUVFt48XFxdr+PDhuv766/v0/sm+jczrzwPYhqADAVBSUqIrrriiT++RTreRJeLzALYh6ICPlZWVqaqqKuaxSCRyxmPS2a944+H1bWTJ/jyATQg64GOTJ0/Wo48+6v73o48+qpycHGVkZCg/P1933XWXwuFwQsf08jayVHwewBYEHfCxCy64QK+++qok6ZVXXlEoFNIXv/hF/fM//7Nuv/1293ay559/PiHjeX0bWbI/D2ATgg74WHZ2trZu3SpJ+uY3v6np06fHPN/S0qIHHnhAmZmZ2rhxY5/GSsZtZMn8PIBtCDrgYxdddJF7RXvBBRfotdde6/Z1s2bN0uTJk/s0VjJuI0vm5wFsQ9ABH/vGN76hadOm6fnnn1dGRobefffdbl+3bt06DRo0qE9jJeM2smR+HsA2BB3wsbffflvZ2dnKyMjQNddcoy9+8Yvdnkm+Zs0aT28rS9RtZOnyeQA/IuiAz5WUlGjFihWqqanRokWLNGzYMP30pz/Vtm3bVFZWptdff12XXXaZxo4d6+k8EnUbWbp8HsBvCDpgmSeeeMK91avzKzc3V1u2bEn11IzY9nkArxB0wEJVVVVatWqVFi9erH/7t39TWVlZqqfUJ7Z9HsALBB0AAAsQdAAALEDQAQCwAEEHAMACBB2wUFFRkY4ePZrqaSRMaWmpWltbUz0NIK0RdMBCGRkZ+vd///dUTyMh2tralJGRoe3bt6d6KkBaI+iAhUKhkFVBD4VCBB04B4IOWIigA8FD0AEL2Rj0HTt2pHoqQFoj6ICF/B70u+66y/268847FQqF9PWvfz3m8bvuuivV0wTSCkEHLOT3oE+cONH9mjBhgkKhkL7whS/EPD5x4sRUTxNIKwQdsJDfgx6ttbWVNXSgFwg6YCGbgs4vxQG9Q9ABCxF0IHgIOmAhgg4ED0EHLLR582ZVVFSkehoJs3nzZjU0NKR6GkBaI+gAAFiAoAMAYAGCDgCABQg6AAAWIOgAAFiAoAMWqq2t1cqVK7VgwQJ95zvf0YIFC7Ry5UrV1NSkempGbPs8gBcIOmCZ9evXq6CgQJMmTdL8+fP18MMPa/78+Zo0aZLOP/98bdiwIdVTjIttnwfwCkEHLHPVVVfpj3/8Y7fPrV27ViNHjkzyjPrGts8DeIWgA5Y577zzFIlEun2uqalJubm5SZ5R39j2eQCvEHTAMlOnTtWcOXN0+PDhmMcPHz6se+65R1OmTEnRzMzY9nkArxB0wDLV1dWaPn26+vfvryFDhuiTn/ykhgwZouzsbM2YMUPV1dWpnmJcbPs8gFcIOmCphoYGhcNhbdmyReFw2Pd7odv2eYBEI+iAJR555JFUTyGhbPs8gNcIOmCJfv366b777jvr86WlpUmcTd/Z9nkArxF0wBJr165VTk6O5syZo46ODvfx48eP68EHH1ROTk4KZxc/2z4P4DWCDlhk06ZNys/P18yZMxWJRLR06VINHTpUWVlZmjt3bqqnFzfbPg/gJYIOWGbbtm3Ky8tTfn6+MjIydMstt6i4uDjV0zJm2+cBvELQAYvs2LFDN9xwg0KhkEKhkMaPH6+2trZUT8uYbZ8H8BJBBywxc+ZMZWZm6pJLLtHKlSv11ltvqaCgQDfddNNZd1pLZ7Z9HsBrBB2wRF5enhYvXqzGxkb3sXA4rAsvvFATJ05UfX19CmcXP9s+D+A1gg5YoqKiotvHi4uLNXz4cF1//fVJnlHf2PZ5AK8RdCAASkpKdMUVV6R6Gglj2+cBEoGgAwFxtitev7Lt8wB9RdABALAAQQcAwAIEHQAACxB0AAAsQNABALAAQQcAwAIEHQAACxB0AAAsQNABALAAQQcAwAIEHUBcfvzjH8txHI0fP77b5x955BE5jqNPf/rTqq2tTfLsgOAi6ADiUltbq0GDBslxHG3cuDHmuRUrVshxHA0bNkwlJSWpmSAQUAQdQNwWL14sx3E0YcIE97ENGzaoX79+Ou+88/Tuu++mbnJAQBF0AHE7fvy4CgsL5TiONm/erJ07d2rQoEHKzMzUunXrUj09IJAIOgAjTz31lBzH0ejRo3XppZfKcRw999xzqZ4WEFgEHYCRxsZGXXTRRXIcR47jaOHChameEhBoBB2AkaNHj2rkyJFyHEcXXHCB2traUj0lINAIOoC4NTc3a9KkSXIcR1lZWXIcRy+++GKqpwUEGkEHELc77rhDjuNo8uTJ7q1qV199NVfpQAoRdABxeeihh+Q4jj772c+qrq5ObW1t7o/eX3jhhVRPDwgsgg6g15YvXy7HcXTxxRfr4MGD7uOrVq2S4zj61Kc+pdbW1hTOEAgugg6gV1599VVlZWUpLy9PO3bsiHku+ip92bJlKZohEGwEHcA5hcNh5eXlKTMzU6+88kq3r1m9erUcx9GIESMUiUSSPEMABB0AAAsQdAAALEDQAQCwAEEHAMACBB0AAAsQdAAALEDQAQCwAEEHAMACBB0AAAsQdAAALEDQAQCwAEEHAMACBB0AAAsQdAAALEDQAQCwAEEHAMACBB0AAAsQdAAALEDQAQCwAEEHAMAC/w8mRNRGK5XxeQAAAABJRU5ErkJggg==)\n",
        "\n",
        "It looks complicated, but once you have computed your (partial) derivatives on paper, it's easy to get Python to do the heavy lifting on this operation.\n",
        "\n"
      ],
      "metadata": {
        "id": "kEDiKtHoRmEe"
      }
    },
    {
      "cell_type": "markdown",
      "source": [
        "# Activity 2 questions\n",
        "**Propagate error**\n",
        "\n",
        "Now that we know how to propogate errors, calculate $t$ and it's uncertainty below. (If you need help finding a derivative or calculating in Python, ask a TF for help!)"
      ],
      "metadata": {
        "id": "bMt-oTPQ9vdb"
      }
    },
    {
      "cell_type": "code",
      "source": [
        "#calculate t from the average value of y, using the kinetmatic equation\n",
        "t = np.sqrt((2*y_mean)/9.8)\n",
        "\n",
        "print(t)\n",
        "# define gravity constant\n",
        "g = 9.8\n",
        "\n",
        "# time uncertainty function based on derivative\n",
        "def t_uncertainty(y_uncert, y_mean, g):\n",
        "  return ((y_uncert) / (g * np.sqrt((2 * y_mean) / g)))\n",
        "\n",
        "#calculate the uncertainty on t, using error propogation\n",
        "t_uncert = t_uncertainty(uncert_in_mean, y_mean, g)\n",
        "print(t_uncert)"
      ],
      "metadata": {
        "id": "2xAGDuTJgzud",
        "colab": {
          "base_uri": "https://localhost:8080/"
        },
        "outputId": "0863ba80-b380-4716-e2e2-e6e67bf66a5f"
      },
      "execution_count": 33,
      "outputs": [
        {
          "output_type": "stream",
          "name": "stdout",
          "text": [
            "0.20101781827814696\n",
            "0.009988655696858587\n"
          ]
        }
      ]
    },
    {
      "cell_type": "markdown",
      "source": [
        "**Now, measure the rest of your group's reaction times using the same technique! Is your difference in reaction times significant?**\n",
        "\n",
        "Put any data and/or code in the cell below, and explain your results in the cell below that. Feel free to add additional cells as well."
      ],
      "metadata": {
        "id": "NQic1dv3-P8a"
      }
    },
    {
      "cell_type": "code",
      "source": [
        "#Code here\n",
        "rishab_y = np.array([18, 31, 16, 13, 18])\n",
        "fredrik_y = np.array([18, 16, 11, 19, 15])\n",
        "hugh_y = np.array([18, 18, 28, 15, 20])\n",
        "\n",
        "group_members = [rishab_y, fredrik_y, hugh_y]\n",
        "group_member_y_mean = []\n",
        "group_members_y_uncert = []\n",
        "group_member_t_uncert = []\n",
        "group_member_t = []\n",
        "\n",
        "\n",
        "for i in group_members:\n",
        "  uncert = 0;\n",
        "\n",
        "  # convert from cm to m\n",
        "  i = i / 100\n",
        "\n",
        "  ## Calculate average y\n",
        "  mean_y = np.mean(i)\n",
        "  group_member_y_mean.append(mean_y)\n",
        "  t = np.sqrt((2*mean_y)/9.8)\n",
        "  group_member_t.append(t)\n",
        "\n",
        "\n",
        "  ## Calculate uncertainty of the mean\n",
        "  std_height = np.std(i)\n",
        "  N = len(i)\n",
        "  y_uncert = std_height/np.sqrt(N)\n",
        "  group_members_y_uncert.append(y_uncert)\n",
        "\n",
        "i=0\n",
        "for j in group_members_y_uncert:\n",
        "  group_member_t_uncert.append(t_uncertainty(j, group_member_y_mean[i], g))\n",
        "  i = i+1\n",
        "\n",
        "#print(group_member_t)\n",
        "#print(group_member_t_uncert)\n",
        "\n",
        "print(f\"Rishab's reaction time +- uncertainty: {round(group_member_t[0], 3)} +- {round(group_member_t_uncert[0], 3)}\")\n",
        "print(f\"Fredrik's reaction time +- uncertainty: {round(group_member_t[1], 3)} +- {round(group_member_t_uncert[1], 3)}\")\n",
        "print(f\"Hugh's reaction time +- uncertainty: {round(group_member_t[2], 3)} +- {round(group_member_t_uncert[2], 3)}\")\n",
        "\n",
        "def is_significant(gamma):\n",
        "  if gamma > 2:\n",
        "    return('Significant')\n",
        "  elif gamma < 1:\n",
        "    return('No significance')\n",
        "  else:\n",
        "      return('Indeterminate')\n",
        "\n",
        "# significance\n",
        "\n",
        "rishab_t = group_member_t[0]\n",
        "rishab_dt = group_member_t_uncert[0]\n",
        "\n",
        "fredrik_t = group_member_t[1]\n",
        "fredrik_dt = group_member_t_uncert[1]\n",
        "\n",
        "hugh_t = group_member_t[2]\n",
        "hugh_dt = group_member_t_uncert[2]\n",
        "\n",
        "\n",
        "# Rishab vs. Fredrik\n",
        "gamma1 = (abs(rishab_t - fredrik_t) / np.sqrt(rishab_dt**2 + fredrik_dt**2))\n",
        "\n",
        "# Hugh vs. Fredrik\n",
        "gamma2 = (abs(hugh_t - fredrik_t) / np.sqrt(hugh_dt**2 + fredrik_dt**2))\n",
        "\n",
        "# Hugh vs. Rishab\n",
        "gamma3 = (abs(hugh_t - rishab_t) / np.sqrt(hugh_dt**2 + rishab_dt**2))\n",
        "\n",
        "print()\n",
        "print(f\"Rishab vs. Fredrik: {is_significant(gamma1)}\")\n",
        "print(f\"Hugh vs. Fredrik: {is_significant(gamma2)}\")\n",
        "print(f\"Hugh vs. Rishab: {is_significant(gamma3)}\")"
      ],
      "metadata": {
        "id": "RWgIU5nU-h9s",
        "colab": {
          "base_uri": "https://localhost:8080/"
        },
        "outputId": "fe82f171-375f-4525-f45d-bb6b3ece71a5"
      },
      "execution_count": 56,
      "outputs": [
        {
          "output_type": "stream",
          "name": "stdout",
          "text": [
            "Rishab's reaction time +- uncertainty: 0.198 +- 0.014\n",
            "Fredrik's reaction time +- uncertainty: 0.18 +- 0.007\n",
            "Hugh's reaction time +- uncertainty: 0.201 +- 0.01\n",
            "\n",
            "Rishab vs. Fredrik: Indeterminate\n",
            "Hugh vs. Fredrik: Indeterminate\n",
            "Hugh vs. Rishab: No significance\n"
          ]
        }
      ]
    },
    {
      "cell_type": "markdown",
      "source": [
        ">> No, we found that the differences in reaction time between our group members is not significant. After determining the average reaction time and propegated time uncertainty for each member, we calculated significance by dividing the absolute value of one person's time subtracted by the other person's time, divided by the square root of the sum of the squares of their time uncertainties. In other words, significance value = |t_1 - t_2| / sqrt(dt_1^2 + dt_2^2). Using this formula, we found that the significance value for Hugh and Rishab was less than 1, meaning their results are not significant. We also found that the significance values for Hugh and Fredrik and Rishab and Fredrik were between 1 and 2, meaning their results are of indeterminant significance."
      ],
      "metadata": {
        "id": "BINDFhPr-jHb"
      }
    },
    {
      "cell_type": "markdown",
      "source": [
        "Activity 3: Appendage Showdown!\n",
        "\n",
        "Does someone's reaction time depend on the appendage that is reacting? Can you design and perform an experiment to compare the reaction time for different appendages (left and right hands, perhaps, or hands and feet)? How significant is the difference between your chosen appendages?"
      ],
      "metadata": {
        "id": "xoR6KBofIlq7"
      }
    },
    {
      "cell_type": "code",
      "source": [
        "#Code here"
      ],
      "metadata": {
        "id": "-WJUZy4Q5YPb"
      },
      "execution_count": null,
      "outputs": []
    },
    {
      "cell_type": "markdown",
      "source": [
        ">> Explain your experiment and your results here"
      ],
      "metadata": {
        "id": "-M9opYQk5YPd"
      }
    },
    {
      "cell_type": "markdown",
      "source": [
        "How to submit\n",
        "\n",
        "- Go to `File` $\\rightarrow$ `Download` $\\rightarrow$ `Download .ipynb`\n",
        "- Upload the file via the Canvas assignment (it will take you to Gradescope.)\n",
        "- IMPORTANT: Only upload ONE COPY, **making sure to add all group members to the submission!**\n",
        "- If you used ChatGPT or another generative AI tool while completing the lab, please complete the AI usage form: (https://canvas.harvard.edu/courses/123462/quizzes/343667)\n",
        "-Please complete the Lab 2 Post-Lab Survey (on Canvas) before you leave lab!"
      ],
      "metadata": {
        "id": "VXf3rdgunyGx"
      }
    },
    {
      "cell_type": "code",
      "source": [],
      "metadata": {
        "id": "5R7gF-8TYGBb"
      },
      "execution_count": null,
      "outputs": []
    }
  ]
}