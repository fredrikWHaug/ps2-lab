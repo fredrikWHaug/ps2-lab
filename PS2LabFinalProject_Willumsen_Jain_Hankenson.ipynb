{
  "nbformat": 4,
  "nbformat_minor": 0,
  "metadata": {
    "colab": {
      "provenance": []
    },
    "kernelspec": {
      "name": "python3",
      "display_name": "Python 3"
    },
    "language_info": {
      "name": "python"
    }
  },
  "cells": [
    {
      "cell_type": "markdown",
      "source": [
        "# Introduction\n",
        "\n",
        "Go to `File` $\\rightarrow$ `Save a copy in Drive` to save an editable version of this document in your own Google Drive."
      ],
      "metadata": {
        "id": "BryvDdLXfM1H"
      }
    },
    {
      "cell_type": "markdown",
      "source": [
        "# Additional Resources\n",
        "\n",
        "If you need any help analyzing your data, please stop by the lab space the week of November 28th - December 1st during any of the usual lab times. Lab TFs will be available to answer any and all questions!\n",
        "\n",
        "You may also contact your lab TF via email - they will typically respond within 24 hours. We are also happy to set up a Zoom time outside of the above office hours if needed.\n",
        "\n",
        "* Tim: tmilbourne@g.harvard.edu\n",
        "* Taylor: taylorcontreras@g.harvard.edu\n",
        "* Abby: abigailcurtis@college.harvard.edu\n",
        "* Ted: yufei_liu@fas.harvard.edu\n",
        "* Furkan: sukrufurkanozturk@g.harvard.edu\n",
        "* Sayalee: spatankar@college.harvard.edu\n",
        "\n",
        "(Note that if you are asking about a Python error, please include the red error messages in your messages - this will help us diagnose any problems.)"
      ],
      "metadata": {
        "id": "-Hhqn7fVKfw5"
      }
    },
    {
      "cell_type": "markdown",
      "source": [
        "# Define helper functions\n",
        "\n",
        "Run the below cell to define a few functions from previous labs that may be helpful. Here's a list of these function:\n",
        "\n",
        "*   `mycurvefit(function, XX, YY, UNCERT)` returns the best-fit values and uncertainties of fit function `function`, given measured data\n",
        "\n",
        "  (`XX`, `YY` $\\pm$ `UNCERT`)\n",
        "\n",
        "* `get_pvalue(st)` returns the p-value corresponding to a significance test value (`st`)\n",
        "\n",
        "* `compare_data_to_model_plot(measurements, theory, theory_err)` makes a histogram of measured values, stored in array `measurements`. Also plots a theoretical value with uncertainties (`theory` $\\pm$ `theory_err`) for visual comparison"
      ],
      "metadata": {
        "id": "7sK0dJs4uWVt"
      }
    },
    {
      "cell_type": "code",
      "source": [
        "#numpy for doing math\n",
        "import numpy as np\n",
        "\n",
        "#matplotlib for plotting\n",
        "import matplotlib.pyplot as plt\n",
        "\n",
        "#scipy for more 'science' functions, in this case curve fitting\n",
        "from scipy.optimize import curve_fit\n",
        "from scipy import stats\n",
        "\n",
        "\n",
        "#we need the following package to allow colab to access files on our computer\n",
        "from google.colab import files\n",
        "\n",
        "def chisquare(data,model,uncertainty):\n",
        "    '''\n",
        "    Calculates value of chi squared for model given data and unvertainty\n",
        "\n",
        "    Parameters\n",
        "    ----------\n",
        "    data : numpy array\n",
        "            1D vector of data values\n",
        "\n",
        "    model : numpy array\n",
        "            1D vector of values predicted by model\n",
        "\n",
        "    uncertainty : numpy array\n",
        "            1D vector of uncertainty corresponding to data\n",
        "\n",
        "    Returns\n",
        "    -------\n",
        "    x2 : float\n",
        "       Returns value of chi squared for this model given data and uncertainty\n",
        "    '''\n",
        "\n",
        "    x2 = np.sum((data-model)**2/uncertainty**2)\n",
        "\n",
        "    return x2\n",
        "\n",
        "\n",
        "def mycurvefit(func,XX,YY,UNCERT,xlabel=None,ylabel=None,p0=None):\n",
        "    '''\n",
        "    Fits data (XX, YY, UNCERT) to function using scipy.curvefit, and then plots data and best fit\n",
        "        Parameters\n",
        "    ----------\n",
        "    func : user-defined function\n",
        "            Model to be used to fit data\n",
        "\n",
        "    XX : numpy array\n",
        "            1D vector of data's independent variable\n",
        "\n",
        "    YY : numpy array\n",
        "            1D vector of data's dependent variable\n",
        "\n",
        "    UNCERT : numpy array\n",
        "            1D vector of uncertainty in YY\n",
        "\n",
        "    xlabel: string\n",
        "            label for plot's x-axis\n",
        "\n",
        "    ylabel : string\n",
        "            label for plot's y-axis\n",
        "\n",
        "    Returns\n",
        "    -------\n",
        "    fitparams : numpy array\n",
        "           1D array of best fit values of parameters\n",
        "\n",
        "    fiterrs : numpy array\n",
        "            1D array of errors on best fit parameters (taken from sqrt of diag of covariance matrix)\n",
        "\n",
        "\n",
        "    '''\n",
        "\n",
        "    ##################################################\n",
        "    #                Do the curve fit                #\n",
        "    ##################################################\n",
        "\n",
        "\n",
        "    # To get curve_fit to use UNCERT, set absolute_sigma = True.  Otherwise sigma = 1\n",
        "    fitparams,pcov = curve_fit(func,XX,YY,sigma = UNCERT,absolute_sigma=True, p0=p0)\n",
        "\n",
        "    # Find error in each parameter.  Assumes covariance matrix is roughly diagonal.\n",
        "    fiterrs = np.sqrt(np.diag(pcov))\n",
        "\n",
        "    # print out the parameters and errors on them\n",
        "    print('Best Fit Parameters:\\n')\n",
        "    i = 0\n",
        "    for A,sigA in zip(fitparams, fiterrs):\n",
        "        i = i +1\n",
        "        mystring = '\\t P' + str(i) + ' = '\n",
        "        print(mystring,round(A,5),'+/-',round(sigA,5))\n",
        "\n",
        "\n",
        "\n",
        "    ##################################################\n",
        "    #                Begin Plotting                  #\n",
        "    ##################################################\n",
        "\n",
        "    fig,ax = plt.subplots()\n",
        "    # plot the raw data\n",
        "    ax.errorbar(XX,YY,UNCERT,fmt='.',label='data')\n",
        "\n",
        "\n",
        "    # plot the fit\n",
        "    XX_shade = np.linspace(min(XX),max(XX),100)\n",
        "    ax.plot(XX_shade,func(XX_shade,*fitparams),label = 'best fit')\n",
        "\n",
        "    if xlabel == None:\n",
        "      xlabel = ''\n",
        "    if ylabel == None:\n",
        "      ylabel = ''\n",
        "\n",
        "    # make the plot nice\n",
        "    ax.set_xlabel(xlabel)\n",
        "    ax.set_ylabel(ylabel)\n",
        "    plt.legend()\n",
        "\n",
        "\n",
        "\n",
        "    ##################################################\n",
        "    #    Calculate and display the fit metrics       #\n",
        "    ##################################################\n",
        "\n",
        "    # calculate the number of degrees of freedom\n",
        "    shape = np.shape(XX)\n",
        "    dof = shape[0] - len(fitparams)\n",
        "\n",
        "    print('\\n Fit Metrics:\\n')\n",
        "    print('\\t Degrees of freedom (N-d): ', dof)\n",
        "\n",
        "    X2 = chisquare(YY,func(XX,*fitparams),UNCERT)\n",
        "    #X2string = '\\t Chi Squared = ' + str(round(X2,1))\n",
        "    X2redstring = '\\t Reduced Chi Squared = '+ str(round(X2/dof,3))\n",
        "    #print(X2string)\n",
        "    print(X2redstring)\n",
        "\n",
        "\n",
        "    return fitparams,fiterrs\n",
        "\n",
        "#to calculate a 2-tailed p-value from a s.s. value call the function pvalue_1tailed (whose input is an s.s. value)\n",
        "def get_pvalue(ss_value):\n",
        "    #print('p-value:', stats.norm.sf(abs(ss_value)))\n",
        "    return 2*stats.norm.sf(abs(ss_value))\n",
        "\n",
        "def gaussian_profile(x, mean, std):\n",
        "  return 1/np.sqrt(2*np.pi*std**2)*np.exp(-1/2*(x-mean)**2/std**2)\n",
        "\n",
        "def compare_data_to_model_plot(measurements, theory, theory_err):\n",
        "\n",
        "  fig, ax = plt.subplots()\n",
        "  ax.hist(measurements, density = True, color='blue', alpha = 0.5, label = 'data')\n",
        "  ylimits = ax.get_ylim()\n",
        "  #ax.vlines(theory, *ylimits, 'r', linestyle='--', label = 'prediction')\n",
        "  #ax.axvspan(theory - theory_err, theory + theory_err, color='red', alpha= 0.5)\n",
        "\n",
        "  ax.errorbar(theory,gaussian_profile(measurements.mean(), measurements.mean(), measurements.std()),\n",
        "              xerr =theory_err, markersize = 16, fmt = '.r', capsize=8,\n",
        "              label = 'prediction')\n",
        "\n",
        "\n",
        "  ax.set_ylim(*ylimits)\n",
        "\n",
        "  xlimits =ax.get_xlim()\n",
        "  xplot = np.linspace(*xlimits)\n",
        "  gaus_meas = gaussian_profile(xplot, measurements.mean(), measurements.std())\n",
        "  ax.plot(xplot, gaus_meas, '--k', alpha=0.75, label = 'distribution of data')\n",
        "  ax.errorbar(measurements.mean(), gaus_meas.max(), xerr = measurements.std()/np.sqrt(len(measurements)), markersize = 16, fmt = '.k', capsize=8)\n",
        "\n",
        "  ax.set_xlim(*xlimits)\n",
        "\n",
        "  ax.legend()\n",
        "  return"
      ],
      "metadata": {
        "id": "RW_1YjMvgHe9"
      },
      "execution_count": null,
      "outputs": []
    },
    {
      "cell_type": "markdown",
      "source": [
        "#Research question\n",
        "\n",
        "what is your research question? Do you have an expectations about what the answer will be? Explain your hypothesis below:"
      ],
      "metadata": {
        "id": "NUovJFWJCyrt"
      }
    },
    {
      "cell_type": "markdown",
      "source": [
        ">> Our research question is as follows: does the surface area of a falling piece of cardboard affect the time it takes the cardboard to fall from a known height?\n",
        "\n",
        ">> We hypothesize that as the surface area of the carboard increases, the time it takes for the cardboard to fall to the ground will also increase."
      ],
      "metadata": {
        "id": "Y8cS5HQcDKYX"
      }
    },
    {
      "cell_type": "markdown",
      "source": [
        "#Experimental design\n",
        "\n",
        "What data will you take? How will you measure it? What sets your experimental unceretainties? Explain below."
      ],
      "metadata": {
        "id": "eFzxlMyqDMbg"
      }
    },
    {
      "cell_type": "markdown",
      "source": [
        ">> To investigate our hypothesis, we will measure the time it takes for pieces of carboard with different surface areas to fall to the ground when dropped from the same hight. We will take this time measurement with stopwatches on our phones. We will measure the time it takes for two pieces of carboard with different surface areas to fall. For each piece of carboard, we will measure the time it takes for the carboard to fall five times. For each piece of carboard, we will then calculate the average time it takes for the piece to fall and the standard error from the mean for the piece. With these data, we will then calculate whether there is a statstically significant difference between the time it takes each piece to fall. There are multiple potential souces of uncertainty in our experiment. One source of error is that the stop watch we are using is only preciese to the 10th milisecond. Another source of error is that one person is droping the cardboard and another person is timing the fall of the cardboard, potentially leading to uncertainty over when the carboard starts falling. An additional source of error is that a human is measuring the time it takes for the cardboard to fall, which leads to general uncertainty given differing reaction times."
      ],
      "metadata": {
        "id": "jMC5wyNJDWno"
      }
    },
    {
      "cell_type": "markdown",
      "source": [
        "#Record data\n",
        "We recorded our data in the below numpy arrays.\n"
      ],
      "metadata": {
        "id": "5I-UdWVR_TQB"
      }
    },
    {
      "cell_type": "code",
      "source": [
        "# data from big piece of cardboard and small piece\n",
        "big_data = np.array([1.39,1.55,1.70,1.50,1.38])\n",
        "small_data = np.array([1.19,1.25,1.22,1.33,1.26])\n",
        "\n",
        "big_area = 21 * 19\n",
        "small_area = 7 * 6.5\n",
        "print(\"Big area: \", big_area, \" cm^2\\nSmall area: \", small_area, \" cm^2\")"
      ],
      "metadata": {
        "id": "d_PWr3MnKVLl",
        "colab": {
          "base_uri": "https://localhost:8080/"
        },
        "outputId": "7da43a56-93f4-435d-faca-3428175f407b"
      },
      "execution_count": null,
      "outputs": [
        {
          "output_type": "stream",
          "name": "stdout",
          "text": [
            "Big area:  399  cm^2\n",
            "Small area:  45.5  cm^2\n"
          ]
        }
      ]
    },
    {
      "cell_type": "code",
      "source": [
        "#calculate means\n",
        "mean_big_data = np.mean(big_data)\n",
        "mean_small_data = np.mean(small_data)\n",
        "print(\"Big data mean: \", mean_big_data, \"\\nSmall data mean: \", mean_small_data)\n",
        "\n",
        "# calculate standard errors\n",
        "big_se = np.std(big_data) / np.sqrt(len(big_data))\n",
        "small_se = np.std(small_data) / np.sqrt(len(small_data))\n",
        "print(\"Big data S.E.: \", big_se, \"\\nSmall data S.E.: \", small_se)"
      ],
      "metadata": {
        "colab": {
          "base_uri": "https://localhost:8080/"
        },
        "id": "KhSw3wwLudfo",
        "outputId": "d2b760ea-69b6-4c7d-8a29-05a9e6938e59"
      },
      "execution_count": null,
      "outputs": [
        {
          "output_type": "stream",
          "name": "stdout",
          "text": [
            "Big data mean:  1.504 \n",
            "Small data mean:  1.25\n",
            "Big data S.E.:  0.052505237833953305 \n",
            "Small data S.E.:  0.02097617696340305\n"
          ]
        }
      ]
    },
    {
      "cell_type": "markdown",
      "source": [
        "# Analyze your data"
      ],
      "metadata": {
        "id": "yfmfpvZ-CRsd"
      }
    },
    {
      "cell_type": "code",
      "source": [
        "# Significance test\n",
        "st = abs(mean_big_data - mean_small_data) / np.sqrt((big_se)**2 + (small_se)**2)\n",
        "print(\"Significance test value: \", st)"
      ],
      "metadata": {
        "colab": {
          "base_uri": "https://localhost:8080/"
        },
        "id": "jDAsPbFovE8F",
        "outputId": "97a82b40-757f-4c5d-9cbc-bf9c7c3386d9"
      },
      "execution_count": null,
      "outputs": [
        {
          "output_type": "stream",
          "name": "stdout",
          "text": [
            "Significance test value:  4.492374809767259\n"
          ]
        }
      ]
    },
    {
      "cell_type": "code",
      "source": [
        "import matplotlib.pyplot as plt\n",
        "means = [mean_big_data,mean_small_data]\n",
        "sterrors = [big_se, small_se]\n",
        "positions = [big_area, small_area]\n",
        "\n",
        "plt.errorbar(positions,means,yerr=sterrors, fmt='o', capsize=5)\n",
        "\n",
        "plt.title(\"The Effect of Surface Area on Time for Object to Fall from Known Height\")\n",
        "plt.xlabel(\"Surface Area (square centimeters)\")\n",
        "plt.ylabel(\"Time to fall (seconds)\")\n",
        "plt.ylim([1.1, 1.7])\n",
        "\n",
        "plt.show()"
      ],
      "metadata": {
        "colab": {
          "base_uri": "https://localhost:8080/",
          "height": 472
        },
        "id": "SPraeM8EvlVy",
        "outputId": "44d3bb55-d480-447f-c499-46df13022b56"
      },
      "execution_count": null,
      "outputs": [
        {
          "output_type": "display_data",
          "data": {
            "text/plain": [
              "<Figure size 640x480 with 1 Axes>"
            ],
            "image/png": "[encoded data removed]"
          },
          "metadata": {}
        }
      ]
    },
    {
      "cell_type": "markdown",
      "source": [
        "Explanation of analysis:\n",
        ">> We collected data from our experiment and formatted it into two main parts: big and small data (for the big and small pieces of cardboard, respectively). We calculated the mean values of the data we collected, which gave us the average time it took for the objects to fall. Based on these data, we then calculated the standard deviation and standard error for both pieces of carboard. Using the standard errors, we were able to create a scatterplot with error bars, where the error bars are equivalent to the calculated standard error of the mean. We calculated that the average time for the big piece of cardboard to fall was 1.504 +- 0.053 seconds while the time for the small piece of cardboard was 1.25 +- 0.021 seconds. We performed a significance test that yielded a s.t. value of 4.49.\n",
        "\n",
        "---"
      ],
      "metadata": {
        "id": "EsWDm0btCU7l"
      }
    },
    {
      "cell_type": "markdown",
      "source": [
        "# Draw conclusions"
      ],
      "metadata": {
        "id": "vkCJZRNvCXic"
      }
    },
    {
      "cell_type": "markdown",
      "source": [
        ">>  We calculated a significance test value of 4.49 which is greater than the signifcance threshold value 2, indicating there is more than two error bars between the means we calculated. Furthermore, in our scatterplot, we observe that there is no overlap between the error bars. Taking these results together, we can conclude that there is a statistically significant difference between the time taken for the two pieces of cardboard to fall. This supports our hypothesis that as surface area increases, the time it takes the cardboard to fall also increases because the large piece of cardboard took a statistically significant longer time to fall than the small piece of cardboard..\n",
        ">>It’s important to take the systematic error into account when doing measurements like we did in this lab. The systematic error in these measurements affects the results we obtained in the significance test through our analysis. The systematic errors we have are specifically: the misalignment error between the person letting go of the pieces of cardboard and the initiation of the stopwatch; the accuracy of the person in control of the stopwatch to stop the clock when the cardboard hit the ground; the precision of the cutout giving the smoothness of the carboard affecting the way in which the cardboard is falling; the precision of the stopwatch\n",
        ">> To address these sources of systemic error, if provided the opportunity to redo this experiment, we would use sensors connected to the drop to increase the accuracy of the experiment. Thus, there would be greater synchronization between the release of the carboard and the start of the timer and the collision of the cardboard with the ground and the end of the timer. Although these changes would make the data we measured more accurate and thus affect the mean and standard error values we calculated, they likely would not affect our overall finding of significance in the difference of the time taken for the small and large pieces of cardboard to fall."
      ],
      "metadata": {
        "id": "jDiectVWCbBi"
      }
    }
  ]
}